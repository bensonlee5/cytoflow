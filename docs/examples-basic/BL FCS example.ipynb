{
 "cells": [
  {
   "cell_type": "markdown",
   "metadata": {},
   "source": [
    "# Basic example cytometry workflow\n",
    "\n",
    "Welcome to `cytoflow`!  I'm glad you're here.  The following is a heavily commented workflow for importing a few tubes of cytometry data and doing some (very) basic analysis.  The goal is to give you not only a taste of using the library for interactive work, but also some insight into the rationale for the way it's designed the way it is and the way it differs from existing projects.\n",
    "\n",
    "`cytoflow`'s goal is to enable *quantitative, reproducible* cytometry analysis.  Reproducibility between cytometry experiments is poor, due in part to differences in analysis between operators; but if all your analysis is in a `Jupyter` notebook (like this one!), then sharing and reuse of workflows is much easier.\n",
    "\n",
    "Let's look at a very basic experiment, containing only two tubes.  These two tubes contain cells that are expressing fluorescent proteins as the read-out of some cell state.  We'll assume that these two tubes are identical, except that one has been induced with 1 µM of the small molecule inducer Doxycycline (aka 'Dox') and the other tube has been induced with 10 µM Dox.\n",
    "\n",
    "---"
   ]
  },
  {
   "cell_type": "markdown",
   "metadata": {},
   "source": [
    "Start by setting up Jupyter's plotting interface, then import the `cytoflow` module."
   ]
  },
  {
   "cell_type": "code",
   "execution_count": 56,
   "metadata": {},
   "outputs": [],
   "source": [
    "import fcsparser\n",
    "import matplotlib.pyplot as plt\n",
    "import numpy as np\n",
    "import pandas as pd\n",
    "import seaborn as sns\n",
    "import tempfile"
   ]
  },
  {
   "cell_type": "code",
   "execution_count": 8,
   "metadata": {},
   "outputs": [],
   "source": [
    "meta, data = fcsparser.parse('data/RFP_Well_A3.fcs', reformat_meta=True)"
   ]
  },
  {
   "cell_type": "code",
   "execution_count": 16,
   "metadata": {},
   "outputs": [],
   "source": [
    "fcs_binary_file_contents = open('data/RFP_Well_A3.fcs', 'rb').read()"
   ]
  },
  {
   "cell_type": "code",
   "execution_count": 18,
   "metadata": {},
   "outputs": [
    {
     "data": {
      "text/plain": [
       "641900"
      ]
     },
     "execution_count": 18,
     "metadata": {},
     "output_type": "execute_result"
    }
   ],
   "source": [
    "# test write to temp file\n",
    "\n",
    "fcs_file = tempfile.NamedTemporaryFile()\n",
    "f = open(fcs_file.name, 'wb')\n",
    "f.write(fcs_binary_file_contents)"
   ]
  },
  {
   "cell_type": "code",
   "execution_count": 19,
   "metadata": {},
   "outputs": [
    {
     "data": {
      "text/plain": [
       "'/tmp/tmp845klzl0'"
      ]
     },
     "execution_count": 19,
     "metadata": {},
     "output_type": "execute_result"
    }
   ],
   "source": [
    "fcs_file.name"
   ]
  },
  {
   "cell_type": "code",
   "execution_count": 24,
   "metadata": {},
   "outputs": [],
   "source": [
    "metatest, datatest = fcsparser.parse(fcs_file.name, reformat_meta=True)"
   ]
  },
  {
   "cell_type": "code",
   "execution_count": 25,
   "metadata": {},
   "outputs": [
    {
     "data": {
      "text/html": [
       "<div>\n",
       "<style scoped>\n",
       "    .dataframe tbody tr th:only-of-type {\n",
       "        vertical-align: middle;\n",
       "    }\n",
       "\n",
       "    .dataframe tbody tr th {\n",
       "        vertical-align: top;\n",
       "    }\n",
       "\n",
       "    .dataframe thead th {\n",
       "        text-align: right;\n",
       "    }\n",
       "</style>\n",
       "<table border=\"1\" class=\"dataframe\">\n",
       "  <thead>\n",
       "    <tr style=\"text-align: right;\">\n",
       "      <th></th>\n",
       "      <th>HDR-T</th>\n",
       "      <th>FSC-A</th>\n",
       "      <th>FSC-H</th>\n",
       "      <th>FSC-W</th>\n",
       "      <th>SSC-A</th>\n",
       "      <th>SSC-H</th>\n",
       "      <th>SSC-W</th>\n",
       "      <th>V2-A</th>\n",
       "      <th>V2-H</th>\n",
       "      <th>V2-W</th>\n",
       "      <th>Y2-A</th>\n",
       "      <th>Y2-H</th>\n",
       "      <th>Y2-W</th>\n",
       "      <th>B1-A</th>\n",
       "      <th>B1-H</th>\n",
       "      <th>B1-W</th>\n",
       "    </tr>\n",
       "  </thead>\n",
       "  <tbody>\n",
       "    <tr>\n",
       "      <th>0</th>\n",
       "      <td>2.018511</td>\n",
       "      <td>459.962982</td>\n",
       "      <td>437.354553</td>\n",
       "      <td>137847.578125</td>\n",
       "      <td>840.091370</td>\n",
       "      <td>747.917847</td>\n",
       "      <td>147225.328125</td>\n",
       "      <td>41.593452</td>\n",
       "      <td>240.153854</td>\n",
       "      <td>22701.017578</td>\n",
       "      <td>109.946274</td>\n",
       "      <td>153.630051</td>\n",
       "      <td>93802.468750</td>\n",
       "      <td>-127.094002</td>\n",
       "      <td>257.718353</td>\n",
       "      <td>-63040.300781</td>\n",
       "    </tr>\n",
       "    <tr>\n",
       "      <th>1</th>\n",
       "      <td>27.451754</td>\n",
       "      <td>-267.174652</td>\n",
       "      <td>365.354553</td>\n",
       "      <td>-95849.679688</td>\n",
       "      <td>3476.902344</td>\n",
       "      <td>3163.917969</td>\n",
       "      <td>144038.046875</td>\n",
       "      <td>103.437637</td>\n",
       "      <td>336.153870</td>\n",
       "      <td>40332.058594</td>\n",
       "      <td>5554.108398</td>\n",
       "      <td>4273.629883</td>\n",
       "      <td>170344.203125</td>\n",
       "      <td>-70.234840</td>\n",
       "      <td>255.798340</td>\n",
       "      <td>-34034.042969</td>\n",
       "    </tr>\n",
       "    <tr>\n",
       "      <th>2</th>\n",
       "      <td>32.043865</td>\n",
       "      <td>-201.582336</td>\n",
       "      <td>501.354553</td>\n",
       "      <td>-52700.828125</td>\n",
       "      <td>480.270691</td>\n",
       "      <td>507.917877</td>\n",
       "      <td>123937.437500</td>\n",
       "      <td>-271.375580</td>\n",
       "      <td>256.153870</td>\n",
       "      <td>-138860.828125</td>\n",
       "      <td>81.835281</td>\n",
       "      <td>121.630051</td>\n",
       "      <td>88188.023438</td>\n",
       "      <td>-96.471756</td>\n",
       "      <td>313.398346</td>\n",
       "      <td>-41931.687500</td>\n",
       "    </tr>\n",
       "    <tr>\n",
       "      <th>3</th>\n",
       "      <td>79.327492</td>\n",
       "      <td>291.259888</td>\n",
       "      <td>447.029755</td>\n",
       "      <td>85399.273438</td>\n",
       "      <td>8026.275879</td>\n",
       "      <td>6741.838867</td>\n",
       "      <td>156043.484375</td>\n",
       "      <td>-26.212378</td>\n",
       "      <td>207.677841</td>\n",
       "      <td>-16543.453125</td>\n",
       "      <td>-54.120304</td>\n",
       "      <td>98.122017</td>\n",
       "      <td>-72294.242188</td>\n",
       "      <td>18.831570</td>\n",
       "      <td>277.669250</td>\n",
       "      <td>8514.489258</td>\n",
       "    </tr>\n",
       "    <tr>\n",
       "      <th>4</th>\n",
       "      <td>79.731194</td>\n",
       "      <td>-397.168579</td>\n",
       "      <td>354.565308</td>\n",
       "      <td>-146821.125000</td>\n",
       "      <td>7453.750488</td>\n",
       "      <td>609.884277</td>\n",
       "      <td>262143.968750</td>\n",
       "      <td>44.559933</td>\n",
       "      <td>216.036865</td>\n",
       "      <td>27035.013672</td>\n",
       "      <td>-10.542595</td>\n",
       "      <td>127.326027</td>\n",
       "      <td>-10852.761719</td>\n",
       "      <td>100.882095</td>\n",
       "      <td>255.756256</td>\n",
       "      <td>51291.074219</td>\n",
       "    </tr>\n",
       "    <tr>\n",
       "      <th>...</th>\n",
       "      <td>...</td>\n",
       "      <td>...</td>\n",
       "      <td>...</td>\n",
       "      <td>...</td>\n",
       "      <td>...</td>\n",
       "      <td>...</td>\n",
       "      <td>...</td>\n",
       "      <td>...</td>\n",
       "      <td>...</td>\n",
       "      <td>...</td>\n",
       "      <td>...</td>\n",
       "      <td>...</td>\n",
       "      <td>...</td>\n",
       "      <td>...</td>\n",
       "      <td>...</td>\n",
       "      <td>...</td>\n",
       "    </tr>\n",
       "    <tr>\n",
       "      <th>9995</th>\n",
       "      <td>262021.171875</td>\n",
       "      <td>341.016266</td>\n",
       "      <td>467.188812</td>\n",
       "      <td>95673.703125</td>\n",
       "      <td>2361.898193</td>\n",
       "      <td>2157.065918</td>\n",
       "      <td>143518.437500</td>\n",
       "      <td>120.932793</td>\n",
       "      <td>232.387558</td>\n",
       "      <td>68208.914062</td>\n",
       "      <td>4192.292969</td>\n",
       "      <td>3372.731201</td>\n",
       "      <td>162922.031250</td>\n",
       "      <td>-111.431953</td>\n",
       "      <td>204.133194</td>\n",
       "      <td>-68438.195312</td>\n",
       "    </tr>\n",
       "    <tr>\n",
       "      <th>9996</th>\n",
       "      <td>262026.078125</td>\n",
       "      <td>163.916428</td>\n",
       "      <td>294.266754</td>\n",
       "      <td>73011.492188</td>\n",
       "      <td>1668.078857</td>\n",
       "      <td>1648.568237</td>\n",
       "      <td>132623.218750</td>\n",
       "      <td>22.592821</td>\n",
       "      <td>198.055237</td>\n",
       "      <td>14951.820312</td>\n",
       "      <td>8997.437500</td>\n",
       "      <td>7363.271973</td>\n",
       "      <td>160161.421875</td>\n",
       "      <td>201.513031</td>\n",
       "      <td>245.859680</td>\n",
       "      <td>105963.726562</td>\n",
       "    </tr>\n",
       "    <tr>\n",
       "      <th>9997</th>\n",
       "      <td>262041.468750</td>\n",
       "      <td>-126.070328</td>\n",
       "      <td>375.560028</td>\n",
       "      <td>-43999.066406</td>\n",
       "      <td>2507.476807</td>\n",
       "      <td>2325.905029</td>\n",
       "      <td>141304.140625</td>\n",
       "      <td>-200.780090</td>\n",
       "      <td>107.877144</td>\n",
       "      <td>-243950.171875</td>\n",
       "      <td>5481.463867</td>\n",
       "      <td>4759.098633</td>\n",
       "      <td>150966.906250</td>\n",
       "      <td>75.771088</td>\n",
       "      <td>200.418015</td>\n",
       "      <td>46427.785156</td>\n",
       "    </tr>\n",
       "    <tr>\n",
       "      <th>9998</th>\n",
       "      <td>262060.484375</td>\n",
       "      <td>47.093155</td>\n",
       "      <td>339.353973</td>\n",
       "      <td>18189.250000</td>\n",
       "      <td>674.123901</td>\n",
       "      <td>730.005493</td>\n",
       "      <td>121038.500000</td>\n",
       "      <td>102.921608</td>\n",
       "      <td>239.510513</td>\n",
       "      <td>56323.792969</td>\n",
       "      <td>-7.076007</td>\n",
       "      <td>152.438705</td>\n",
       "      <td>-6084.192383</td>\n",
       "      <td>-18.061314</td>\n",
       "      <td>188.421722</td>\n",
       "      <td>-10856.109375</td>\n",
       "    </tr>\n",
       "    <tr>\n",
       "      <th>9999</th>\n",
       "      <td>262143.968750</td>\n",
       "      <td>484.894745</td>\n",
       "      <td>470.273987</td>\n",
       "      <td>135147.015625</td>\n",
       "      <td>3030.236572</td>\n",
       "      <td>3223.463867</td>\n",
       "      <td>123215.023438</td>\n",
       "      <td>-13.739475</td>\n",
       "      <td>206.219727</td>\n",
       "      <td>-8732.726562</td>\n",
       "      <td>5582.104492</td>\n",
       "      <td>4271.519531</td>\n",
       "      <td>171287.421875</td>\n",
       "      <td>178.322540</td>\n",
       "      <td>276.044556</td>\n",
       "      <td>83296.437500</td>\n",
       "    </tr>\n",
       "  </tbody>\n",
       "</table>\n",
       "<p>10000 rows × 16 columns</p>\n",
       "</div>"
      ],
      "text/plain": [
       "              HDR-T       FSC-A       FSC-H          FSC-W        SSC-A  \\\n",
       "0          2.018511  459.962982  437.354553  137847.578125   840.091370   \n",
       "1         27.451754 -267.174652  365.354553  -95849.679688  3476.902344   \n",
       "2         32.043865 -201.582336  501.354553  -52700.828125   480.270691   \n",
       "3         79.327492  291.259888  447.029755   85399.273438  8026.275879   \n",
       "4         79.731194 -397.168579  354.565308 -146821.125000  7453.750488   \n",
       "...             ...         ...         ...            ...          ...   \n",
       "9995  262021.171875  341.016266  467.188812   95673.703125  2361.898193   \n",
       "9996  262026.078125  163.916428  294.266754   73011.492188  1668.078857   \n",
       "9997  262041.468750 -126.070328  375.560028  -43999.066406  2507.476807   \n",
       "9998  262060.484375   47.093155  339.353973   18189.250000   674.123901   \n",
       "9999  262143.968750  484.894745  470.273987  135147.015625  3030.236572   \n",
       "\n",
       "            SSC-H          SSC-W        V2-A        V2-H           V2-W  \\\n",
       "0      747.917847  147225.328125   41.593452  240.153854   22701.017578   \n",
       "1     3163.917969  144038.046875  103.437637  336.153870   40332.058594   \n",
       "2      507.917877  123937.437500 -271.375580  256.153870 -138860.828125   \n",
       "3     6741.838867  156043.484375  -26.212378  207.677841  -16543.453125   \n",
       "4      609.884277  262143.968750   44.559933  216.036865   27035.013672   \n",
       "...           ...            ...         ...         ...            ...   \n",
       "9995  2157.065918  143518.437500  120.932793  232.387558   68208.914062   \n",
       "9996  1648.568237  132623.218750   22.592821  198.055237   14951.820312   \n",
       "9997  2325.905029  141304.140625 -200.780090  107.877144 -243950.171875   \n",
       "9998   730.005493  121038.500000  102.921608  239.510513   56323.792969   \n",
       "9999  3223.463867  123215.023438  -13.739475  206.219727   -8732.726562   \n",
       "\n",
       "             Y2-A         Y2-H           Y2-W        B1-A        B1-H  \\\n",
       "0      109.946274   153.630051   93802.468750 -127.094002  257.718353   \n",
       "1     5554.108398  4273.629883  170344.203125  -70.234840  255.798340   \n",
       "2       81.835281   121.630051   88188.023438  -96.471756  313.398346   \n",
       "3      -54.120304    98.122017  -72294.242188   18.831570  277.669250   \n",
       "4      -10.542595   127.326027  -10852.761719  100.882095  255.756256   \n",
       "...           ...          ...            ...         ...         ...   \n",
       "9995  4192.292969  3372.731201  162922.031250 -111.431953  204.133194   \n",
       "9996  8997.437500  7363.271973  160161.421875  201.513031  245.859680   \n",
       "9997  5481.463867  4759.098633  150966.906250   75.771088  200.418015   \n",
       "9998    -7.076007   152.438705   -6084.192383  -18.061314  188.421722   \n",
       "9999  5582.104492  4271.519531  171287.421875  178.322540  276.044556   \n",
       "\n",
       "               B1-W  \n",
       "0     -63040.300781  \n",
       "1     -34034.042969  \n",
       "2     -41931.687500  \n",
       "3       8514.489258  \n",
       "4      51291.074219  \n",
       "...             ...  \n",
       "9995  -68438.195312  \n",
       "9996  105963.726562  \n",
       "9997   46427.785156  \n",
       "9998  -10856.109375  \n",
       "9999   83296.437500  \n",
       "\n",
       "[10000 rows x 16 columns]"
      ]
     },
     "execution_count": 25,
     "metadata": {},
     "output_type": "execute_result"
    }
   ],
   "source": [
    "datatest"
   ]
  },
  {
   "cell_type": "code",
   "execution_count": 26,
   "metadata": {},
   "outputs": [
    {
     "data": {
      "text/plain": [
       "pandas.core.frame.DataFrame"
      ]
     },
     "execution_count": 26,
     "metadata": {},
     "output_type": "execute_result"
    }
   ],
   "source": [
    "type(data)"
   ]
  },
  {
   "cell_type": "code",
   "execution_count": 27,
   "metadata": {},
   "outputs": [
    {
     "data": {
      "text/plain": [
       "dict"
      ]
     },
     "execution_count": 27,
     "metadata": {},
     "output_type": "execute_result"
    }
   ],
   "source": [
    "type(meta)"
   ]
  },
  {
   "cell_type": "code",
   "execution_count": 28,
   "metadata": {
    "scrolled": true
   },
   "outputs": [
    {
     "data": {
      "text/plain": [
       "{'__header__': {'FCS format': b'FCS3.0',\n",
       "  'text start': 256,\n",
       "  'text end': 1824,\n",
       "  'data start': 1892,\n",
       "  'data end': 641891,\n",
       "  'analysis start': 0,\n",
       "  'analysis end': 0},\n",
       " '$BYTEORD': '1,2,3,4',\n",
       " '$DATATYPE': 'F',\n",
       " '$NEXTDATA': 0,\n",
       " '$TOT': 10000,\n",
       " '$MODE': 'L',\n",
       " '$PAR': 16,\n",
       " '$FIL': 'EY_2013-07-19_PID_101_MG1655_Transformants_D01_Well_A3.001.fcs',\n",
       " '$OP': 'Eugene',\n",
       " '$SYS': 'MACSQuantify,2.4.1247.1dev',\n",
       " '$CYT': 'MACSQuant',\n",
       " '$CYTSN': '3057',\n",
       " '$SRC': 'A3',\n",
       " '$CELLS': 'PID_101_MG1655_Transformants_D01',\n",
       " '$DATE': '2013-Jul-19',\n",
       " '$BTIM': '11:47:24',\n",
       " '$ETIM': '11:47:46',\n",
       " '$BEGINSTEXT': '0',\n",
       " '$ENDSTEXT': '0',\n",
       " '$BEGINANALYSIS': '0',\n",
       " '$ENDANALYSIS': '0',\n",
       " '$BEGINDATA': '1892',\n",
       " '$ENDDATA': '641891',\n",
       " '_channels_':                  $PnN    $PnR   $PnS                  $PnE $PnG  $PnB\n",
       " Channel Number                                                       \n",
       " 1               HDR-T  262144  HDR-T  [0.000000, 0.000000]    1    32\n",
       " 2               FSC-A  262144  FSC-A  [0.000000, 0.000000]    1    32\n",
       " 3               FSC-H  262144  FSC-H  [0.000000, 0.000000]    1    32\n",
       " 4               FSC-W  262144  FSC-W  [0.000000, 0.000000]    1    32\n",
       " 5               SSC-A  262144  SSC-A  [0.000000, 0.000000]    1    32\n",
       " 6               SSC-H  262144  SSC-H  [0.000000, 0.000000]    1    32\n",
       " 7               SSC-W  262144  SSC-W  [0.000000, 0.000000]    1    32\n",
       " 8                V2-A  262144   V2-A  [0.000000, 0.000000]    1    32\n",
       " 9                V2-H  262144   V2-H  [0.000000, 0.000000]    1    32\n",
       " 10               V2-W  262144   V2-W  [0.000000, 0.000000]    1    32\n",
       " 11               Y2-A  262144   Y2-A  [0.000000, 0.000000]    1    32\n",
       " 12               Y2-H  262144   Y2-H  [0.000000, 0.000000]    1    32\n",
       " 13               Y2-W  262144   Y2-W  [0.000000, 0.000000]    1    32\n",
       " 14               B1-A  262144   B1-A  [0.000000, 0.000000]    1    32\n",
       " 15               B1-H  262144   B1-H  [0.000000, 0.000000]    1    32\n",
       " 16               B1-W  262144   B1-W  [0.000000, 0.000000]    1    32,\n",
       " '_channel_names_': ('HDR-T',\n",
       "  'FSC-A',\n",
       "  'FSC-H',\n",
       "  'FSC-W',\n",
       "  'SSC-A',\n",
       "  'SSC-H',\n",
       "  'SSC-W',\n",
       "  'V2-A',\n",
       "  'V2-H',\n",
       "  'V2-W',\n",
       "  'Y2-A',\n",
       "  'Y2-H',\n",
       "  'Y2-W',\n",
       "  'B1-A',\n",
       "  'B1-H',\n",
       "  'B1-W')}"
      ]
     },
     "execution_count": 28,
     "metadata": {},
     "output_type": "execute_result"
    }
   ],
   "source": [
    "meta"
   ]
  },
  {
   "cell_type": "code",
   "execution_count": 29,
   "metadata": {},
   "outputs": [
    {
     "data": {
      "text/plain": [
       "dict_keys(['__header__', '$BYTEORD', '$DATATYPE', '$NEXTDATA', '$TOT', '$MODE', '$PAR', '$FIL', '$OP', '$SYS', '$CYT', '$CYTSN', '$SRC', '$CELLS', '$DATE', '$BTIM', '$ETIM', '$BEGINSTEXT', '$ENDSTEXT', '$BEGINANALYSIS', '$ENDANALYSIS', '$BEGINDATA', '$ENDDATA', '_channels_', '_channel_names_'])"
      ]
     },
     "execution_count": 29,
     "metadata": {},
     "output_type": "execute_result"
    }
   ],
   "source": [
    "meta.keys()"
   ]
  },
  {
   "cell_type": "code",
   "execution_count": 30,
   "metadata": {},
   "outputs": [
    {
     "data": {
      "text/plain": [
       "dict_items([('__header__', {'FCS format': b'FCS3.0', 'text start': 256, 'text end': 1824, 'data start': 1892, 'data end': 641891, 'analysis start': 0, 'analysis end': 0}), ('$BYTEORD', '1,2,3,4'), ('$DATATYPE', 'F'), ('$NEXTDATA', 0), ('$TOT', 10000), ('$MODE', 'L'), ('$PAR', 16), ('$FIL', 'EY_2013-07-19_PID_101_MG1655_Transformants_D01_Well_A3.001.fcs'), ('$OP', 'Eugene'), ('$SYS', 'MACSQuantify,2.4.1247.1dev'), ('$CYT', 'MACSQuant'), ('$CYTSN', '3057'), ('$SRC', 'A3'), ('$CELLS', 'PID_101_MG1655_Transformants_D01'), ('$DATE', '2013-Jul-19'), ('$BTIM', '11:47:24'), ('$ETIM', '11:47:46'), ('$BEGINSTEXT', '0'), ('$ENDSTEXT', '0'), ('$BEGINANALYSIS', '0'), ('$ENDANALYSIS', '0'), ('$BEGINDATA', '1892'), ('$ENDDATA', '641891'), ('_channels_',                  $PnN    $PnR   $PnS                  $PnE $PnG  $PnB\n",
       "Channel Number                                                       \n",
       "1               HDR-T  262144  HDR-T  [0.000000, 0.000000]    1    32\n",
       "2               FSC-A  262144  FSC-A  [0.000000, 0.000000]    1    32\n",
       "3               FSC-H  262144  FSC-H  [0.000000, 0.000000]    1    32\n",
       "4               FSC-W  262144  FSC-W  [0.000000, 0.000000]    1    32\n",
       "5               SSC-A  262144  SSC-A  [0.000000, 0.000000]    1    32\n",
       "6               SSC-H  262144  SSC-H  [0.000000, 0.000000]    1    32\n",
       "7               SSC-W  262144  SSC-W  [0.000000, 0.000000]    1    32\n",
       "8                V2-A  262144   V2-A  [0.000000, 0.000000]    1    32\n",
       "9                V2-H  262144   V2-H  [0.000000, 0.000000]    1    32\n",
       "10               V2-W  262144   V2-W  [0.000000, 0.000000]    1    32\n",
       "11               Y2-A  262144   Y2-A  [0.000000, 0.000000]    1    32\n",
       "12               Y2-H  262144   Y2-H  [0.000000, 0.000000]    1    32\n",
       "13               Y2-W  262144   Y2-W  [0.000000, 0.000000]    1    32\n",
       "14               B1-A  262144   B1-A  [0.000000, 0.000000]    1    32\n",
       "15               B1-H  262144   B1-H  [0.000000, 0.000000]    1    32\n",
       "16               B1-W  262144   B1-W  [0.000000, 0.000000]    1    32), ('_channel_names_', ('HDR-T', 'FSC-A', 'FSC-H', 'FSC-W', 'SSC-A', 'SSC-H', 'SSC-W', 'V2-A', 'V2-H', 'V2-W', 'Y2-A', 'Y2-H', 'Y2-W', 'B1-A', 'B1-H', 'B1-W'))])"
      ]
     },
     "execution_count": 30,
     "metadata": {},
     "output_type": "execute_result"
    }
   ],
   "source": [
    "meta.items()"
   ]
  },
  {
   "cell_type": "code",
   "execution_count": 31,
   "metadata": {},
   "outputs": [
    {
     "data": {
      "text/plain": [
       "dict_keys(['__header__', '$BYTEORD', '$DATATYPE', '$NEXTDATA', '$TOT', '$MODE', '$PAR', '$FIL', '$OP', '$SYS', '$CYT', '$CYTSN', '$SRC', '$CELLS', '$DATE', '$BTIM', '$ETIM', '$BEGINSTEXT', '$ENDSTEXT', '$BEGINANALYSIS', '$ENDANALYSIS', '$BEGINDATA', '$ENDDATA', '_channels_', '_channel_names_'])"
      ]
     },
     "execution_count": 31,
     "metadata": {},
     "output_type": "execute_result"
    }
   ],
   "source": [
    "meta.keys()"
   ]
  },
  {
   "cell_type": "code",
   "execution_count": 32,
   "metadata": {},
   "outputs": [
    {
     "data": {
      "text/plain": [
       "{'FCS format': b'FCS3.0',\n",
       " 'text start': 256,\n",
       " 'text end': 1824,\n",
       " 'data start': 1892,\n",
       " 'data end': 641891,\n",
       " 'analysis start': 0,\n",
       " 'analysis end': 0}"
      ]
     },
     "execution_count": 32,
     "metadata": {},
     "output_type": "execute_result"
    }
   ],
   "source": [
    "meta['__header__']"
   ]
  },
  {
   "cell_type": "code",
   "execution_count": 33,
   "metadata": {},
   "outputs": [],
   "source": [
    "def rename_column_for_bigquery(s):\n",
    "    return s.replace(\"$\", \"\").replace(\" \", \"_\")"
   ]
  },
  {
   "cell_type": "code",
   "execution_count": 35,
   "metadata": {},
   "outputs": [],
   "source": [
    "def parse_metadata(metadata):\n",
    "    \"\"\"\n",
    "    Input: metadata as parsed by fcsparser\n",
    "    \n",
    "    Returns:\n",
    "    header_dict: dict describing FCS version and byte offsets of TEXT, DATA, and ANALYSIS segments in FCS file\n",
    "    sys_metadata: system metadata as specified by the FCS file format\n",
    "    channels_df: Pandas dataframe describing characteristics for each channel\n",
    "    channel_names: set containing channel names\n",
    "    \"\"\"\n",
    "    header_dict = metadata['__header__']\n",
    "    \n",
    "    for k in header_dict.keys():\n",
    "        if isinstance(header_dict[k], bytes):\n",
    "            header_dict[k] = header_dict[k].decode()\n",
    "    header_dict = {rename_column_for_bigquery(k): v for k, v in header_dict.items()}\n",
    "    \n",
    "    sys_metadata = {rename_column_for_bigquery(k): v for k, v in metadata.items() if k not in ['__header__', '_channels_', '_channel_names_']}\n",
    "    \n",
    "    channels_df = metadata['_channels_']\n",
    "    channels_df.columns = [rename_column_for_bigquery(c) for c in channels_df.columns]\n",
    "    \n",
    "    channel_names = metadata['_channel_names_']\n",
    "    \n",
    "    return header_dict, sys_metadata, channels_df, channel_names\n",
    "\n",
    "header_dict, sys_metadata, channels, channel_names = parse_metadata(meta)"
   ]
  },
  {
   "cell_type": "code",
   "execution_count": 38,
   "metadata": {},
   "outputs": [
    {
     "name": "stdout",
     "output_type": "stream",
     "text": [
      "Header dict:  {'FCS_format': 'FCS3.0', 'text_start': 256, 'text_end': 1824, 'data_start': 1892, 'data_end': 641891, 'analysis_start': 0, 'analysis_end': 0}\n",
      "System metadata:  {'BYTEORD': '1,2,3,4', 'DATATYPE': 'F', 'NEXTDATA': 0, 'TOT': 10000, 'MODE': 'L', 'PAR': 16, 'FIL': 'EY_2013-07-19_PID_101_MG1655_Transformants_D01_Well_A3.001.fcs', 'OP': 'Eugene', 'SYS': 'MACSQuantify,2.4.1247.1dev', 'CYT': 'MACSQuant', 'CYTSN': '3057', 'SRC': 'A3', 'CELLS': 'PID_101_MG1655_Transformants_D01', 'DATE': '2013-Jul-19', 'BTIM': '11:47:24', 'ETIM': '11:47:46', 'BEGINSTEXT': '0', 'ENDSTEXT': '0', 'BEGINANALYSIS': '0', 'ENDANALYSIS': '0', 'BEGINDATA': '1892', 'ENDDATA': '641891'}\n",
      "Channels:                   PnN     PnR    PnS                   PnE PnG  PnB\n",
      "Channel Number                                                     \n",
      "1               HDR-T  262144  HDR-T  [0.000000, 0.000000]   1   32\n",
      "2               FSC-A  262144  FSC-A  [0.000000, 0.000000]   1   32\n",
      "3               FSC-H  262144  FSC-H  [0.000000, 0.000000]   1   32\n",
      "4               FSC-W  262144  FSC-W  [0.000000, 0.000000]   1   32\n",
      "5               SSC-A  262144  SSC-A  [0.000000, 0.000000]   1   32\n",
      "6               SSC-H  262144  SSC-H  [0.000000, 0.000000]   1   32\n",
      "7               SSC-W  262144  SSC-W  [0.000000, 0.000000]   1   32\n",
      "8                V2-A  262144   V2-A  [0.000000, 0.000000]   1   32\n",
      "9                V2-H  262144   V2-H  [0.000000, 0.000000]   1   32\n",
      "10               V2-W  262144   V2-W  [0.000000, 0.000000]   1   32\n",
      "11               Y2-A  262144   Y2-A  [0.000000, 0.000000]   1   32\n",
      "12               Y2-H  262144   Y2-H  [0.000000, 0.000000]   1   32\n",
      "13               Y2-W  262144   Y2-W  [0.000000, 0.000000]   1   32\n",
      "14               B1-A  262144   B1-A  [0.000000, 0.000000]   1   32\n",
      "15               B1-H  262144   B1-H  [0.000000, 0.000000]   1   32\n",
      "16               B1-W  262144   B1-W  [0.000000, 0.000000]   1   32\n",
      "Channel names:  ('HDR-T', 'FSC-A', 'FSC-H', 'FSC-W', 'SSC-A', 'SSC-H', 'SSC-W', 'V2-A', 'V2-H', 'V2-W', 'Y2-A', 'Y2-H', 'Y2-W', 'B1-A', 'B1-H', 'B1-W')\n"
     ]
    }
   ],
   "source": [
    "print(\"Header dict: \", header_dict)\n",
    "print(\"System metadata: \", sys_metadata)\n",
    "print(\"Channels:\", channels)\n",
    "print(\"Channel names: \", channel_names)"
   ]
  },
  {
   "cell_type": "code",
   "execution_count": 64,
   "metadata": {},
   "outputs": [
    {
     "data": {
      "text/html": [
       "<div>\n",
       "<style scoped>\n",
       "    .dataframe tbody tr th:only-of-type {\n",
       "        vertical-align: middle;\n",
       "    }\n",
       "\n",
       "    .dataframe tbody tr th {\n",
       "        vertical-align: top;\n",
       "    }\n",
       "\n",
       "    .dataframe thead th {\n",
       "        text-align: right;\n",
       "    }\n",
       "</style>\n",
       "<table border=\"1\" class=\"dataframe\">\n",
       "  <thead>\n",
       "    <tr style=\"text-align: right;\">\n",
       "      <th></th>\n",
       "      <th>BEGINANALYSIS</th>\n",
       "      <th>BEGINDATA</th>\n",
       "      <th>BEGINSTEXT</th>\n",
       "      <th>BTIM</th>\n",
       "      <th>BYTEORD</th>\n",
       "      <th>CELLS</th>\n",
       "      <th>CYT</th>\n",
       "      <th>CYTSN</th>\n",
       "      <th>DATATYPE</th>\n",
       "      <th>DATE</th>\n",
       "      <th>...</th>\n",
       "      <th>ENDSTEXT</th>\n",
       "      <th>ETIM</th>\n",
       "      <th>FIL</th>\n",
       "      <th>MODE</th>\n",
       "      <th>NEXTDATA</th>\n",
       "      <th>OP</th>\n",
       "      <th>PAR</th>\n",
       "      <th>SRC</th>\n",
       "      <th>SYS</th>\n",
       "      <th>TOT</th>\n",
       "    </tr>\n",
       "  </thead>\n",
       "  <tbody>\n",
       "    <tr>\n",
       "      <th>0</th>\n",
       "      <td>0</td>\n",
       "      <td>1892</td>\n",
       "      <td>0</td>\n",
       "      <td>11:47:24</td>\n",
       "      <td>1,2,3,4</td>\n",
       "      <td>PID_101_MG1655_Transformants_D01</td>\n",
       "      <td>MACSQuant</td>\n",
       "      <td>3057</td>\n",
       "      <td>F</td>\n",
       "      <td>2013-Jul-19</td>\n",
       "      <td>...</td>\n",
       "      <td>0</td>\n",
       "      <td>11:47:46</td>\n",
       "      <td>EY_2013-07-19_PID_101_MG1655_Transformants_D01...</td>\n",
       "      <td>L</td>\n",
       "      <td>0</td>\n",
       "      <td>Eugene</td>\n",
       "      <td>16</td>\n",
       "      <td>A3</td>\n",
       "      <td>MACSQuantify,2.4.1247.1dev</td>\n",
       "      <td>10000</td>\n",
       "    </tr>\n",
       "  </tbody>\n",
       "</table>\n",
       "<p>1 rows × 22 columns</p>\n",
       "</div>"
      ],
      "text/plain": [
       "  BEGINANALYSIS BEGINDATA BEGINSTEXT      BTIM  BYTEORD  \\\n",
       "0             0      1892          0  11:47:24  1,2,3,4   \n",
       "\n",
       "                              CELLS        CYT CYTSN DATATYPE         DATE  \\\n",
       "0  PID_101_MG1655_Transformants_D01  MACSQuant  3057        F  2013-Jul-19   \n",
       "\n",
       "   ... ENDSTEXT      ETIM                                                FIL  \\\n",
       "0  ...        0  11:47:46  EY_2013-07-19_PID_101_MG1655_Transformants_D01...   \n",
       "\n",
       "  MODE NEXTDATA      OP  PAR SRC                         SYS    TOT  \n",
       "0    L        0  Eugene   16  A3  MACSQuantify,2.4.1247.1dev  10000  \n",
       "\n",
       "[1 rows x 22 columns]"
      ]
     },
     "execution_count": 64,
     "metadata": {},
     "output_type": "execute_result"
    }
   ],
   "source": [
    "pd.DataFrame.from_records(sys_metadata, index=[0])"
   ]
  },
  {
   "cell_type": "code",
   "execution_count": 50,
   "metadata": {},
   "outputs": [
    {
     "data": {
      "text/plain": [
       "['FCS3.0', 256, 1824, 1892, 641891, 0, 0]"
      ]
     },
     "execution_count": 50,
     "metadata": {},
     "output_type": "execute_result"
    }
   ],
   "source": [
    "list(header_dict.values())"
   ]
  },
  {
   "cell_type": "code",
   "execution_count": 62,
   "metadata": {},
   "outputs": [
    {
     "data": {
      "text/html": [
       "<div>\n",
       "<style scoped>\n",
       "    .dataframe tbody tr th:only-of-type {\n",
       "        vertical-align: middle;\n",
       "    }\n",
       "\n",
       "    .dataframe tbody tr th {\n",
       "        vertical-align: top;\n",
       "    }\n",
       "\n",
       "    .dataframe thead th {\n",
       "        text-align: right;\n",
       "    }\n",
       "</style>\n",
       "<table border=\"1\" class=\"dataframe\">\n",
       "  <thead>\n",
       "    <tr style=\"text-align: right;\">\n",
       "      <th></th>\n",
       "      <th>FCS_format</th>\n",
       "      <th>analysis_end</th>\n",
       "      <th>analysis_start</th>\n",
       "      <th>data_end</th>\n",
       "      <th>data_start</th>\n",
       "      <th>text_end</th>\n",
       "      <th>text_start</th>\n",
       "    </tr>\n",
       "  </thead>\n",
       "  <tbody>\n",
       "    <tr>\n",
       "      <th>0</th>\n",
       "      <td>FCS3.0</td>\n",
       "      <td>0</td>\n",
       "      <td>0</td>\n",
       "      <td>641891</td>\n",
       "      <td>1892</td>\n",
       "      <td>1824</td>\n",
       "      <td>256</td>\n",
       "    </tr>\n",
       "  </tbody>\n",
       "</table>\n",
       "</div>"
      ],
      "text/plain": [
       "  FCS_format  analysis_end  analysis_start  data_end  data_start  text_end  \\\n",
       "0     FCS3.0             0               0    641891        1892      1824   \n",
       "\n",
       "   text_start  \n",
       "0         256  "
      ]
     },
     "execution_count": 62,
     "metadata": {},
     "output_type": "execute_result"
    }
   ],
   "source": [
    "pd.DataFrame.from_records(header_dict, index=[0])"
   ]
  },
  {
   "cell_type": "code",
   "execution_count": 39,
   "metadata": {},
   "outputs": [
    {
     "data": {
      "text/html": [
       "<div>\n",
       "<style scoped>\n",
       "    .dataframe tbody tr th:only-of-type {\n",
       "        vertical-align: middle;\n",
       "    }\n",
       "\n",
       "    .dataframe tbody tr th {\n",
       "        vertical-align: top;\n",
       "    }\n",
       "\n",
       "    .dataframe thead th {\n",
       "        text-align: right;\n",
       "    }\n",
       "</style>\n",
       "<table border=\"1\" class=\"dataframe\">\n",
       "  <thead>\n",
       "    <tr style=\"text-align: right;\">\n",
       "      <th></th>\n",
       "      <th>Channel Number</th>\n",
       "      <th>PnN</th>\n",
       "      <th>PnR</th>\n",
       "      <th>PnS</th>\n",
       "      <th>PnE</th>\n",
       "      <th>PnG</th>\n",
       "      <th>PnB</th>\n",
       "    </tr>\n",
       "  </thead>\n",
       "  <tbody>\n",
       "    <tr>\n",
       "      <th>0</th>\n",
       "      <td>1</td>\n",
       "      <td>HDR-T</td>\n",
       "      <td>262144</td>\n",
       "      <td>HDR-T</td>\n",
       "      <td>[0.000000, 0.000000]</td>\n",
       "      <td>1</td>\n",
       "      <td>32</td>\n",
       "    </tr>\n",
       "    <tr>\n",
       "      <th>1</th>\n",
       "      <td>2</td>\n",
       "      <td>FSC-A</td>\n",
       "      <td>262144</td>\n",
       "      <td>FSC-A</td>\n",
       "      <td>[0.000000, 0.000000]</td>\n",
       "      <td>1</td>\n",
       "      <td>32</td>\n",
       "    </tr>\n",
       "    <tr>\n",
       "      <th>2</th>\n",
       "      <td>3</td>\n",
       "      <td>FSC-H</td>\n",
       "      <td>262144</td>\n",
       "      <td>FSC-H</td>\n",
       "      <td>[0.000000, 0.000000]</td>\n",
       "      <td>1</td>\n",
       "      <td>32</td>\n",
       "    </tr>\n",
       "    <tr>\n",
       "      <th>3</th>\n",
       "      <td>4</td>\n",
       "      <td>FSC-W</td>\n",
       "      <td>262144</td>\n",
       "      <td>FSC-W</td>\n",
       "      <td>[0.000000, 0.000000]</td>\n",
       "      <td>1</td>\n",
       "      <td>32</td>\n",
       "    </tr>\n",
       "    <tr>\n",
       "      <th>4</th>\n",
       "      <td>5</td>\n",
       "      <td>SSC-A</td>\n",
       "      <td>262144</td>\n",
       "      <td>SSC-A</td>\n",
       "      <td>[0.000000, 0.000000]</td>\n",
       "      <td>1</td>\n",
       "      <td>32</td>\n",
       "    </tr>\n",
       "    <tr>\n",
       "      <th>5</th>\n",
       "      <td>6</td>\n",
       "      <td>SSC-H</td>\n",
       "      <td>262144</td>\n",
       "      <td>SSC-H</td>\n",
       "      <td>[0.000000, 0.000000]</td>\n",
       "      <td>1</td>\n",
       "      <td>32</td>\n",
       "    </tr>\n",
       "    <tr>\n",
       "      <th>6</th>\n",
       "      <td>7</td>\n",
       "      <td>SSC-W</td>\n",
       "      <td>262144</td>\n",
       "      <td>SSC-W</td>\n",
       "      <td>[0.000000, 0.000000]</td>\n",
       "      <td>1</td>\n",
       "      <td>32</td>\n",
       "    </tr>\n",
       "    <tr>\n",
       "      <th>7</th>\n",
       "      <td>8</td>\n",
       "      <td>V2-A</td>\n",
       "      <td>262144</td>\n",
       "      <td>V2-A</td>\n",
       "      <td>[0.000000, 0.000000]</td>\n",
       "      <td>1</td>\n",
       "      <td>32</td>\n",
       "    </tr>\n",
       "    <tr>\n",
       "      <th>8</th>\n",
       "      <td>9</td>\n",
       "      <td>V2-H</td>\n",
       "      <td>262144</td>\n",
       "      <td>V2-H</td>\n",
       "      <td>[0.000000, 0.000000]</td>\n",
       "      <td>1</td>\n",
       "      <td>32</td>\n",
       "    </tr>\n",
       "    <tr>\n",
       "      <th>9</th>\n",
       "      <td>10</td>\n",
       "      <td>V2-W</td>\n",
       "      <td>262144</td>\n",
       "      <td>V2-W</td>\n",
       "      <td>[0.000000, 0.000000]</td>\n",
       "      <td>1</td>\n",
       "      <td>32</td>\n",
       "    </tr>\n",
       "    <tr>\n",
       "      <th>10</th>\n",
       "      <td>11</td>\n",
       "      <td>Y2-A</td>\n",
       "      <td>262144</td>\n",
       "      <td>Y2-A</td>\n",
       "      <td>[0.000000, 0.000000]</td>\n",
       "      <td>1</td>\n",
       "      <td>32</td>\n",
       "    </tr>\n",
       "    <tr>\n",
       "      <th>11</th>\n",
       "      <td>12</td>\n",
       "      <td>Y2-H</td>\n",
       "      <td>262144</td>\n",
       "      <td>Y2-H</td>\n",
       "      <td>[0.000000, 0.000000]</td>\n",
       "      <td>1</td>\n",
       "      <td>32</td>\n",
       "    </tr>\n",
       "    <tr>\n",
       "      <th>12</th>\n",
       "      <td>13</td>\n",
       "      <td>Y2-W</td>\n",
       "      <td>262144</td>\n",
       "      <td>Y2-W</td>\n",
       "      <td>[0.000000, 0.000000]</td>\n",
       "      <td>1</td>\n",
       "      <td>32</td>\n",
       "    </tr>\n",
       "    <tr>\n",
       "      <th>13</th>\n",
       "      <td>14</td>\n",
       "      <td>B1-A</td>\n",
       "      <td>262144</td>\n",
       "      <td>B1-A</td>\n",
       "      <td>[0.000000, 0.000000]</td>\n",
       "      <td>1</td>\n",
       "      <td>32</td>\n",
       "    </tr>\n",
       "    <tr>\n",
       "      <th>14</th>\n",
       "      <td>15</td>\n",
       "      <td>B1-H</td>\n",
       "      <td>262144</td>\n",
       "      <td>B1-H</td>\n",
       "      <td>[0.000000, 0.000000]</td>\n",
       "      <td>1</td>\n",
       "      <td>32</td>\n",
       "    </tr>\n",
       "    <tr>\n",
       "      <th>15</th>\n",
       "      <td>16</td>\n",
       "      <td>B1-W</td>\n",
       "      <td>262144</td>\n",
       "      <td>B1-W</td>\n",
       "      <td>[0.000000, 0.000000]</td>\n",
       "      <td>1</td>\n",
       "      <td>32</td>\n",
       "    </tr>\n",
       "  </tbody>\n",
       "</table>\n",
       "</div>"
      ],
      "text/plain": [
       "    Channel Number    PnN     PnR    PnS                   PnE PnG  PnB\n",
       "0                1  HDR-T  262144  HDR-T  [0.000000, 0.000000]   1   32\n",
       "1                2  FSC-A  262144  FSC-A  [0.000000, 0.000000]   1   32\n",
       "2                3  FSC-H  262144  FSC-H  [0.000000, 0.000000]   1   32\n",
       "3                4  FSC-W  262144  FSC-W  [0.000000, 0.000000]   1   32\n",
       "4                5  SSC-A  262144  SSC-A  [0.000000, 0.000000]   1   32\n",
       "5                6  SSC-H  262144  SSC-H  [0.000000, 0.000000]   1   32\n",
       "6                7  SSC-W  262144  SSC-W  [0.000000, 0.000000]   1   32\n",
       "7                8   V2-A  262144   V2-A  [0.000000, 0.000000]   1   32\n",
       "8                9   V2-H  262144   V2-H  [0.000000, 0.000000]   1   32\n",
       "9               10   V2-W  262144   V2-W  [0.000000, 0.000000]   1   32\n",
       "10              11   Y2-A  262144   Y2-A  [0.000000, 0.000000]   1   32\n",
       "11              12   Y2-H  262144   Y2-H  [0.000000, 0.000000]   1   32\n",
       "12              13   Y2-W  262144   Y2-W  [0.000000, 0.000000]   1   32\n",
       "13              14   B1-A  262144   B1-A  [0.000000, 0.000000]   1   32\n",
       "14              15   B1-H  262144   B1-H  [0.000000, 0.000000]   1   32\n",
       "15              16   B1-W  262144   B1-W  [0.000000, 0.000000]   1   32"
      ]
     },
     "execution_count": 39,
     "metadata": {},
     "output_type": "execute_result"
    }
   ],
   "source": [
    "channels.reset_index()"
   ]
  },
  {
   "cell_type": "code",
   "execution_count": 28,
   "metadata": {},
   "outputs": [
    {
     "data": {
      "text/plain": [
       "'FCS3.0'"
      ]
     },
     "execution_count": 28,
     "metadata": {},
     "output_type": "execute_result"
    }
   ],
   "source": [
    "meta['__header__']['FCS format'].decode()"
   ]
  },
  {
   "cell_type": "code",
   "execution_count": 29,
   "metadata": {},
   "outputs": [
    {
     "data": {
      "text/html": [
       "<div>\n",
       "<style scoped>\n",
       "    .dataframe tbody tr th:only-of-type {\n",
       "        vertical-align: middle;\n",
       "    }\n",
       "\n",
       "    .dataframe tbody tr th {\n",
       "        vertical-align: top;\n",
       "    }\n",
       "\n",
       "    .dataframe thead th {\n",
       "        text-align: right;\n",
       "    }\n",
       "</style>\n",
       "<table border=\"1\" class=\"dataframe\">\n",
       "  <thead>\n",
       "    <tr style=\"text-align: right;\">\n",
       "      <th></th>\n",
       "      <th>$PnN</th>\n",
       "      <th>$PnR</th>\n",
       "      <th>$PnS</th>\n",
       "      <th>$PnE</th>\n",
       "      <th>$PnG</th>\n",
       "      <th>$PnB</th>\n",
       "    </tr>\n",
       "    <tr>\n",
       "      <th>Channel Number</th>\n",
       "      <th></th>\n",
       "      <th></th>\n",
       "      <th></th>\n",
       "      <th></th>\n",
       "      <th></th>\n",
       "      <th></th>\n",
       "    </tr>\n",
       "  </thead>\n",
       "  <tbody>\n",
       "    <tr>\n",
       "      <th>1</th>\n",
       "      <td>HDR-T</td>\n",
       "      <td>262144</td>\n",
       "      <td>HDR-T</td>\n",
       "      <td>[0.000000, 0.000000]</td>\n",
       "      <td>1</td>\n",
       "      <td>32</td>\n",
       "    </tr>\n",
       "    <tr>\n",
       "      <th>2</th>\n",
       "      <td>FSC-A</td>\n",
       "      <td>262144</td>\n",
       "      <td>FSC-A</td>\n",
       "      <td>[0.000000, 0.000000]</td>\n",
       "      <td>1</td>\n",
       "      <td>32</td>\n",
       "    </tr>\n",
       "    <tr>\n",
       "      <th>3</th>\n",
       "      <td>FSC-H</td>\n",
       "      <td>262144</td>\n",
       "      <td>FSC-H</td>\n",
       "      <td>[0.000000, 0.000000]</td>\n",
       "      <td>1</td>\n",
       "      <td>32</td>\n",
       "    </tr>\n",
       "    <tr>\n",
       "      <th>4</th>\n",
       "      <td>FSC-W</td>\n",
       "      <td>262144</td>\n",
       "      <td>FSC-W</td>\n",
       "      <td>[0.000000, 0.000000]</td>\n",
       "      <td>1</td>\n",
       "      <td>32</td>\n",
       "    </tr>\n",
       "    <tr>\n",
       "      <th>5</th>\n",
       "      <td>SSC-A</td>\n",
       "      <td>262144</td>\n",
       "      <td>SSC-A</td>\n",
       "      <td>[0.000000, 0.000000]</td>\n",
       "      <td>1</td>\n",
       "      <td>32</td>\n",
       "    </tr>\n",
       "    <tr>\n",
       "      <th>6</th>\n",
       "      <td>SSC-H</td>\n",
       "      <td>262144</td>\n",
       "      <td>SSC-H</td>\n",
       "      <td>[0.000000, 0.000000]</td>\n",
       "      <td>1</td>\n",
       "      <td>32</td>\n",
       "    </tr>\n",
       "    <tr>\n",
       "      <th>7</th>\n",
       "      <td>SSC-W</td>\n",
       "      <td>262144</td>\n",
       "      <td>SSC-W</td>\n",
       "      <td>[0.000000, 0.000000]</td>\n",
       "      <td>1</td>\n",
       "      <td>32</td>\n",
       "    </tr>\n",
       "    <tr>\n",
       "      <th>8</th>\n",
       "      <td>V2-A</td>\n",
       "      <td>262144</td>\n",
       "      <td>V2-A</td>\n",
       "      <td>[0.000000, 0.000000]</td>\n",
       "      <td>1</td>\n",
       "      <td>32</td>\n",
       "    </tr>\n",
       "    <tr>\n",
       "      <th>9</th>\n",
       "      <td>V2-H</td>\n",
       "      <td>262144</td>\n",
       "      <td>V2-H</td>\n",
       "      <td>[0.000000, 0.000000]</td>\n",
       "      <td>1</td>\n",
       "      <td>32</td>\n",
       "    </tr>\n",
       "    <tr>\n",
       "      <th>10</th>\n",
       "      <td>V2-W</td>\n",
       "      <td>262144</td>\n",
       "      <td>V2-W</td>\n",
       "      <td>[0.000000, 0.000000]</td>\n",
       "      <td>1</td>\n",
       "      <td>32</td>\n",
       "    </tr>\n",
       "    <tr>\n",
       "      <th>11</th>\n",
       "      <td>Y2-A</td>\n",
       "      <td>262144</td>\n",
       "      <td>Y2-A</td>\n",
       "      <td>[0.000000, 0.000000]</td>\n",
       "      <td>1</td>\n",
       "      <td>32</td>\n",
       "    </tr>\n",
       "    <tr>\n",
       "      <th>12</th>\n",
       "      <td>Y2-H</td>\n",
       "      <td>262144</td>\n",
       "      <td>Y2-H</td>\n",
       "      <td>[0.000000, 0.000000]</td>\n",
       "      <td>1</td>\n",
       "      <td>32</td>\n",
       "    </tr>\n",
       "    <tr>\n",
       "      <th>13</th>\n",
       "      <td>Y2-W</td>\n",
       "      <td>262144</td>\n",
       "      <td>Y2-W</td>\n",
       "      <td>[0.000000, 0.000000]</td>\n",
       "      <td>1</td>\n",
       "      <td>32</td>\n",
       "    </tr>\n",
       "    <tr>\n",
       "      <th>14</th>\n",
       "      <td>B1-A</td>\n",
       "      <td>262144</td>\n",
       "      <td>B1-A</td>\n",
       "      <td>[0.000000, 0.000000]</td>\n",
       "      <td>1</td>\n",
       "      <td>32</td>\n",
       "    </tr>\n",
       "    <tr>\n",
       "      <th>15</th>\n",
       "      <td>B1-H</td>\n",
       "      <td>262144</td>\n",
       "      <td>B1-H</td>\n",
       "      <td>[0.000000, 0.000000]</td>\n",
       "      <td>1</td>\n",
       "      <td>32</td>\n",
       "    </tr>\n",
       "    <tr>\n",
       "      <th>16</th>\n",
       "      <td>B1-W</td>\n",
       "      <td>262144</td>\n",
       "      <td>B1-W</td>\n",
       "      <td>[0.000000, 0.000000]</td>\n",
       "      <td>1</td>\n",
       "      <td>32</td>\n",
       "    </tr>\n",
       "  </tbody>\n",
       "</table>\n",
       "</div>"
      ],
      "text/plain": [
       "                 $PnN    $PnR   $PnS                  $PnE $PnG  $PnB\n",
       "Channel Number                                                       \n",
       "1               HDR-T  262144  HDR-T  [0.000000, 0.000000]    1    32\n",
       "2               FSC-A  262144  FSC-A  [0.000000, 0.000000]    1    32\n",
       "3               FSC-H  262144  FSC-H  [0.000000, 0.000000]    1    32\n",
       "4               FSC-W  262144  FSC-W  [0.000000, 0.000000]    1    32\n",
       "5               SSC-A  262144  SSC-A  [0.000000, 0.000000]    1    32\n",
       "6               SSC-H  262144  SSC-H  [0.000000, 0.000000]    1    32\n",
       "7               SSC-W  262144  SSC-W  [0.000000, 0.000000]    1    32\n",
       "8                V2-A  262144   V2-A  [0.000000, 0.000000]    1    32\n",
       "9                V2-H  262144   V2-H  [0.000000, 0.000000]    1    32\n",
       "10               V2-W  262144   V2-W  [0.000000, 0.000000]    1    32\n",
       "11               Y2-A  262144   Y2-A  [0.000000, 0.000000]    1    32\n",
       "12               Y2-H  262144   Y2-H  [0.000000, 0.000000]    1    32\n",
       "13               Y2-W  262144   Y2-W  [0.000000, 0.000000]    1    32\n",
       "14               B1-A  262144   B1-A  [0.000000, 0.000000]    1    32\n",
       "15               B1-H  262144   B1-H  [0.000000, 0.000000]    1    32\n",
       "16               B1-W  262144   B1-W  [0.000000, 0.000000]    1    32"
      ]
     },
     "execution_count": 29,
     "metadata": {},
     "output_type": "execute_result"
    }
   ],
   "source": [
    "meta['_channels_']"
   ]
  },
  {
   "cell_type": "code",
   "execution_count": 31,
   "metadata": {},
   "outputs": [
    {
     "data": {
      "text/plain": [
       "('HDR-T',\n",
       " 'FSC-A',\n",
       " 'FSC-H',\n",
       " 'FSC-W',\n",
       " 'SSC-A',\n",
       " 'SSC-H',\n",
       " 'SSC-W',\n",
       " 'V2-A',\n",
       " 'V2-H',\n",
       " 'V2-W',\n",
       " 'Y2-A',\n",
       " 'Y2-H',\n",
       " 'Y2-W',\n",
       " 'B1-A',\n",
       " 'B1-H',\n",
       " 'B1-W')"
      ]
     },
     "execution_count": 31,
     "metadata": {},
     "output_type": "execute_result"
    }
   ],
   "source": [
    "meta['_channel_names_']"
   ]
  },
  {
   "cell_type": "code",
   "execution_count": 4,
   "metadata": {},
   "outputs": [
    {
     "data": {
      "text/html": [
       "<div>\n",
       "<style scoped>\n",
       "    .dataframe tbody tr th:only-of-type {\n",
       "        vertical-align: middle;\n",
       "    }\n",
       "\n",
       "    .dataframe tbody tr th {\n",
       "        vertical-align: top;\n",
       "    }\n",
       "\n",
       "    .dataframe thead th {\n",
       "        text-align: right;\n",
       "    }\n",
       "</style>\n",
       "<table border=\"1\" class=\"dataframe\">\n",
       "  <thead>\n",
       "    <tr style=\"text-align: right;\">\n",
       "      <th></th>\n",
       "      <th>HDR-T</th>\n",
       "      <th>FSC-A</th>\n",
       "      <th>FSC-H</th>\n",
       "      <th>FSC-W</th>\n",
       "      <th>SSC-A</th>\n",
       "      <th>SSC-H</th>\n",
       "      <th>SSC-W</th>\n",
       "      <th>V2-A</th>\n",
       "      <th>V2-H</th>\n",
       "      <th>V2-W</th>\n",
       "      <th>Y2-A</th>\n",
       "      <th>Y2-H</th>\n",
       "      <th>Y2-W</th>\n",
       "      <th>B1-A</th>\n",
       "      <th>B1-H</th>\n",
       "      <th>B1-W</th>\n",
       "    </tr>\n",
       "  </thead>\n",
       "  <tbody>\n",
       "    <tr>\n",
       "      <th>0</th>\n",
       "      <td>2.018511</td>\n",
       "      <td>459.962982</td>\n",
       "      <td>437.354553</td>\n",
       "      <td>137847.578125</td>\n",
       "      <td>840.091370</td>\n",
       "      <td>747.917847</td>\n",
       "      <td>147225.328125</td>\n",
       "      <td>41.593452</td>\n",
       "      <td>240.153854</td>\n",
       "      <td>22701.017578</td>\n",
       "      <td>109.946274</td>\n",
       "      <td>153.630051</td>\n",
       "      <td>93802.468750</td>\n",
       "      <td>-127.094002</td>\n",
       "      <td>257.718353</td>\n",
       "      <td>-63040.300781</td>\n",
       "    </tr>\n",
       "    <tr>\n",
       "      <th>1</th>\n",
       "      <td>27.451754</td>\n",
       "      <td>-267.174652</td>\n",
       "      <td>365.354553</td>\n",
       "      <td>-95849.679688</td>\n",
       "      <td>3476.902344</td>\n",
       "      <td>3163.917969</td>\n",
       "      <td>144038.046875</td>\n",
       "      <td>103.437637</td>\n",
       "      <td>336.153870</td>\n",
       "      <td>40332.058594</td>\n",
       "      <td>5554.108398</td>\n",
       "      <td>4273.629883</td>\n",
       "      <td>170344.203125</td>\n",
       "      <td>-70.234840</td>\n",
       "      <td>255.798340</td>\n",
       "      <td>-34034.042969</td>\n",
       "    </tr>\n",
       "    <tr>\n",
       "      <th>2</th>\n",
       "      <td>32.043865</td>\n",
       "      <td>-201.582336</td>\n",
       "      <td>501.354553</td>\n",
       "      <td>-52700.828125</td>\n",
       "      <td>480.270691</td>\n",
       "      <td>507.917877</td>\n",
       "      <td>123937.437500</td>\n",
       "      <td>-271.375580</td>\n",
       "      <td>256.153870</td>\n",
       "      <td>-138860.828125</td>\n",
       "      <td>81.835281</td>\n",
       "      <td>121.630051</td>\n",
       "      <td>88188.023438</td>\n",
       "      <td>-96.471756</td>\n",
       "      <td>313.398346</td>\n",
       "      <td>-41931.687500</td>\n",
       "    </tr>\n",
       "    <tr>\n",
       "      <th>3</th>\n",
       "      <td>79.327492</td>\n",
       "      <td>291.259888</td>\n",
       "      <td>447.029755</td>\n",
       "      <td>85399.273438</td>\n",
       "      <td>8026.275879</td>\n",
       "      <td>6741.838867</td>\n",
       "      <td>156043.484375</td>\n",
       "      <td>-26.212378</td>\n",
       "      <td>207.677841</td>\n",
       "      <td>-16543.453125</td>\n",
       "      <td>-54.120304</td>\n",
       "      <td>98.122017</td>\n",
       "      <td>-72294.242188</td>\n",
       "      <td>18.831570</td>\n",
       "      <td>277.669250</td>\n",
       "      <td>8514.489258</td>\n",
       "    </tr>\n",
       "    <tr>\n",
       "      <th>4</th>\n",
       "      <td>79.731194</td>\n",
       "      <td>-397.168579</td>\n",
       "      <td>354.565308</td>\n",
       "      <td>-146821.125000</td>\n",
       "      <td>7453.750488</td>\n",
       "      <td>609.884277</td>\n",
       "      <td>262143.968750</td>\n",
       "      <td>44.559933</td>\n",
       "      <td>216.036865</td>\n",
       "      <td>27035.013672</td>\n",
       "      <td>-10.542595</td>\n",
       "      <td>127.326027</td>\n",
       "      <td>-10852.761719</td>\n",
       "      <td>100.882095</td>\n",
       "      <td>255.756256</td>\n",
       "      <td>51291.074219</td>\n",
       "    </tr>\n",
       "    <tr>\n",
       "      <th>...</th>\n",
       "      <td>...</td>\n",
       "      <td>...</td>\n",
       "      <td>...</td>\n",
       "      <td>...</td>\n",
       "      <td>...</td>\n",
       "      <td>...</td>\n",
       "      <td>...</td>\n",
       "      <td>...</td>\n",
       "      <td>...</td>\n",
       "      <td>...</td>\n",
       "      <td>...</td>\n",
       "      <td>...</td>\n",
       "      <td>...</td>\n",
       "      <td>...</td>\n",
       "      <td>...</td>\n",
       "      <td>...</td>\n",
       "    </tr>\n",
       "    <tr>\n",
       "      <th>9995</th>\n",
       "      <td>262021.171875</td>\n",
       "      <td>341.016266</td>\n",
       "      <td>467.188812</td>\n",
       "      <td>95673.703125</td>\n",
       "      <td>2361.898193</td>\n",
       "      <td>2157.065918</td>\n",
       "      <td>143518.437500</td>\n",
       "      <td>120.932793</td>\n",
       "      <td>232.387558</td>\n",
       "      <td>68208.914062</td>\n",
       "      <td>4192.292969</td>\n",
       "      <td>3372.731201</td>\n",
       "      <td>162922.031250</td>\n",
       "      <td>-111.431953</td>\n",
       "      <td>204.133194</td>\n",
       "      <td>-68438.195312</td>\n",
       "    </tr>\n",
       "    <tr>\n",
       "      <th>9996</th>\n",
       "      <td>262026.078125</td>\n",
       "      <td>163.916428</td>\n",
       "      <td>294.266754</td>\n",
       "      <td>73011.492188</td>\n",
       "      <td>1668.078857</td>\n",
       "      <td>1648.568237</td>\n",
       "      <td>132623.218750</td>\n",
       "      <td>22.592821</td>\n",
       "      <td>198.055237</td>\n",
       "      <td>14951.820312</td>\n",
       "      <td>8997.437500</td>\n",
       "      <td>7363.271973</td>\n",
       "      <td>160161.421875</td>\n",
       "      <td>201.513031</td>\n",
       "      <td>245.859680</td>\n",
       "      <td>105963.726562</td>\n",
       "    </tr>\n",
       "    <tr>\n",
       "      <th>9997</th>\n",
       "      <td>262041.468750</td>\n",
       "      <td>-126.070328</td>\n",
       "      <td>375.560028</td>\n",
       "      <td>-43999.066406</td>\n",
       "      <td>2507.476807</td>\n",
       "      <td>2325.905029</td>\n",
       "      <td>141304.140625</td>\n",
       "      <td>-200.780090</td>\n",
       "      <td>107.877144</td>\n",
       "      <td>-243950.171875</td>\n",
       "      <td>5481.463867</td>\n",
       "      <td>4759.098633</td>\n",
       "      <td>150966.906250</td>\n",
       "      <td>75.771088</td>\n",
       "      <td>200.418015</td>\n",
       "      <td>46427.785156</td>\n",
       "    </tr>\n",
       "    <tr>\n",
       "      <th>9998</th>\n",
       "      <td>262060.484375</td>\n",
       "      <td>47.093155</td>\n",
       "      <td>339.353973</td>\n",
       "      <td>18189.250000</td>\n",
       "      <td>674.123901</td>\n",
       "      <td>730.005493</td>\n",
       "      <td>121038.500000</td>\n",
       "      <td>102.921608</td>\n",
       "      <td>239.510513</td>\n",
       "      <td>56323.792969</td>\n",
       "      <td>-7.076007</td>\n",
       "      <td>152.438705</td>\n",
       "      <td>-6084.192383</td>\n",
       "      <td>-18.061314</td>\n",
       "      <td>188.421722</td>\n",
       "      <td>-10856.109375</td>\n",
       "    </tr>\n",
       "    <tr>\n",
       "      <th>9999</th>\n",
       "      <td>262143.968750</td>\n",
       "      <td>484.894745</td>\n",
       "      <td>470.273987</td>\n",
       "      <td>135147.015625</td>\n",
       "      <td>3030.236572</td>\n",
       "      <td>3223.463867</td>\n",
       "      <td>123215.023438</td>\n",
       "      <td>-13.739475</td>\n",
       "      <td>206.219727</td>\n",
       "      <td>-8732.726562</td>\n",
       "      <td>5582.104492</td>\n",
       "      <td>4271.519531</td>\n",
       "      <td>171287.421875</td>\n",
       "      <td>178.322540</td>\n",
       "      <td>276.044556</td>\n",
       "      <td>83296.437500</td>\n",
       "    </tr>\n",
       "  </tbody>\n",
       "</table>\n",
       "<p>10000 rows × 16 columns</p>\n",
       "</div>"
      ],
      "text/plain": [
       "              HDR-T       FSC-A       FSC-H          FSC-W        SSC-A  \\\n",
       "0          2.018511  459.962982  437.354553  137847.578125   840.091370   \n",
       "1         27.451754 -267.174652  365.354553  -95849.679688  3476.902344   \n",
       "2         32.043865 -201.582336  501.354553  -52700.828125   480.270691   \n",
       "3         79.327492  291.259888  447.029755   85399.273438  8026.275879   \n",
       "4         79.731194 -397.168579  354.565308 -146821.125000  7453.750488   \n",
       "...             ...         ...         ...            ...          ...   \n",
       "9995  262021.171875  341.016266  467.188812   95673.703125  2361.898193   \n",
       "9996  262026.078125  163.916428  294.266754   73011.492188  1668.078857   \n",
       "9997  262041.468750 -126.070328  375.560028  -43999.066406  2507.476807   \n",
       "9998  262060.484375   47.093155  339.353973   18189.250000   674.123901   \n",
       "9999  262143.968750  484.894745  470.273987  135147.015625  3030.236572   \n",
       "\n",
       "            SSC-H          SSC-W        V2-A        V2-H           V2-W  \\\n",
       "0      747.917847  147225.328125   41.593452  240.153854   22701.017578   \n",
       "1     3163.917969  144038.046875  103.437637  336.153870   40332.058594   \n",
       "2      507.917877  123937.437500 -271.375580  256.153870 -138860.828125   \n",
       "3     6741.838867  156043.484375  -26.212378  207.677841  -16543.453125   \n",
       "4      609.884277  262143.968750   44.559933  216.036865   27035.013672   \n",
       "...           ...            ...         ...         ...            ...   \n",
       "9995  2157.065918  143518.437500  120.932793  232.387558   68208.914062   \n",
       "9996  1648.568237  132623.218750   22.592821  198.055237   14951.820312   \n",
       "9997  2325.905029  141304.140625 -200.780090  107.877144 -243950.171875   \n",
       "9998   730.005493  121038.500000  102.921608  239.510513   56323.792969   \n",
       "9999  3223.463867  123215.023438  -13.739475  206.219727   -8732.726562   \n",
       "\n",
       "             Y2-A         Y2-H           Y2-W        B1-A        B1-H  \\\n",
       "0      109.946274   153.630051   93802.468750 -127.094002  257.718353   \n",
       "1     5554.108398  4273.629883  170344.203125  -70.234840  255.798340   \n",
       "2       81.835281   121.630051   88188.023438  -96.471756  313.398346   \n",
       "3      -54.120304    98.122017  -72294.242188   18.831570  277.669250   \n",
       "4      -10.542595   127.326027  -10852.761719  100.882095  255.756256   \n",
       "...           ...          ...            ...         ...         ...   \n",
       "9995  4192.292969  3372.731201  162922.031250 -111.431953  204.133194   \n",
       "9996  8997.437500  7363.271973  160161.421875  201.513031  245.859680   \n",
       "9997  5481.463867  4759.098633  150966.906250   75.771088  200.418015   \n",
       "9998    -7.076007   152.438705   -6084.192383  -18.061314  188.421722   \n",
       "9999  5582.104492  4271.519531  171287.421875  178.322540  276.044556   \n",
       "\n",
       "               B1-W  \n",
       "0     -63040.300781  \n",
       "1     -34034.042969  \n",
       "2     -41931.687500  \n",
       "3       8514.489258  \n",
       "4      51291.074219  \n",
       "...             ...  \n",
       "9995  -68438.195312  \n",
       "9996  105963.726562  \n",
       "9997   46427.785156  \n",
       "9998  -10856.109375  \n",
       "9999   83296.437500  \n",
       "\n",
       "[10000 rows x 16 columns]"
      ]
     },
     "execution_count": 4,
     "metadata": {},
     "output_type": "execute_result"
    }
   ],
   "source": [
    "data"
   ]
  },
  {
   "cell_type": "code",
   "execution_count": 10,
   "metadata": {
    "scrolled": false
   },
   "outputs": [
    {
     "data": {
      "image/png": "[encoded data removed]",
      "text/plain": [
       "<Figure size 432x288 with 1 Axes>"
      ]
     },
     "metadata": {
      "needs_background": "light"
     },
     "output_type": "display_data"
    },
    {
     "data": {
      "image/png": "[encoded data removed]",
      "text/plain": [
       "<Figure size 432x288 with 1 Axes>"
      ]
     },
     "metadata": {
      "needs_background": "light"
     },
     "output_type": "display_data"
    },
    {
     "data": {
      "image/png": "[encoded data removed]",
      "text/plain": [
       "<Figure size 432x288 with 1 Axes>"
      ]
     },
     "metadata": {
      "needs_background": "light"
     },
     "output_type": "display_data"
    },
    {
     "data": {
      "image/png": "[encoded data removed]",
      "text/plain": [
       "<Figure size 432x288 with 1 Axes>"
      ]
     },
     "metadata": {
      "needs_background": "light"
     },
     "output_type": "display_data"
    },
    {
     "data": {
      "image/png": "[encoded data removed]",
      "text/plain": [
       "<Figure size 432x288 with 1 Axes>"
      ]
     },
     "metadata": {
      "needs_background": "light"
     },
     "output_type": "display_data"
    },
    {
     "data": {
      "image/png": "[encoded data removed]",
      "text/plain": [
       "<Figure size 432x288 with 1 Axes>"
      ]
     },
     "metadata": {
      "needs_background": "light"
     },
     "output_type": "display_data"
    },
    {
     "data": {
      "image/png": "[encoded data removed]",
      "text/plain": [
       "<Figure size 432x288 with 1 Axes>"
      ]
     },
     "metadata": {
      "needs_background": "light"
     },
     "output_type": "display_data"
    },
    {
     "data": {
      "image/png": "[encoded data removed]",
      "text/plain": [
       "<Figure size 432x288 with 1 Axes>"
      ]
     },
     "metadata": {
      "needs_background": "light"
     },
     "output_type": "display_data"
    },
    {
     "data": {
      "image/png": "[encoded data removed]",
      "text/plain": [
       "<Figure size 432x288 with 1 Axes>"
      ]
     },
     "metadata": {
      "needs_background": "light"
     },
     "output_type": "display_data"
    },
    {
     "data": {
      "image/png": "[encoded data removed]",
      "text/plain": [
       "<Figure size 432x288 with 1 Axes>"
      ]
     },
     "metadata": {
      "needs_background": "light"
     },
     "output_type": "display_data"
    },
    {
     "data": {
      "image/png": "[encoded data removed]",
      "text/plain": [
       "<Figure size 432x288 with 1 Axes>"
      ]
     },
     "metadata": {
      "needs_background": "light"
     },
     "output_type": "display_data"
    },
    {
     "data": {
      "image/png": "[encoded data removed]",
      "text/plain": [
       "<Figure size 432x288 with 1 Axes>"
      ]
     },
     "metadata": {
      "needs_background": "light"
     },
     "output_type": "display_data"
    },
    {
     "data": {
      "image/png": "[encoded data removed]",
      "text/plain": [
       "<Figure size 432x288 with 1 Axes>"
      ]
     },
     "metadata": {
      "needs_background": "light"
     },
     "output_type": "display_data"
    },
    {
     "data": {
      "image/png": "[encoded data removed]",
      "text/plain": [
       "<Figure size 432x288 with 1 Axes>"
      ]
     },
     "metadata": {
      "needs_background": "light"
     },
     "output_type": "display_data"
    },
    {
     "data": {
      "image/png": "[encoded data removed]",
      "text/plain": [
       "<Figure size 432x288 with 1 Axes>"
      ]
     },
     "metadata": {
      "needs_background": "light"
     },
     "output_type": "display_data"
    },
    {
     "data": {
      "image/png": "[encoded data removed]",
      "text/plain": [
       "<Figure size 432x288 with 1 Axes>"
      ]
     },
     "metadata": {
      "needs_background": "light"
     },
     "output_type": "display_data"
    }
   ],
   "source": [
    "for c in data.columns:\n",
    "    sns.histplot(data[c])\n",
    "    plt.title(c)\n",
    "    plt.show()"
   ]
  },
  {
   "cell_type": "code",
   "execution_count": 20,
   "metadata": {},
   "outputs": [],
   "source": [
    "data_filt = data[data['FSC-H'] < 2000].copy()"
   ]
  },
  {
   "cell_type": "code",
   "execution_count": 21,
   "metadata": {},
   "outputs": [
    {
     "name": "stderr",
     "output_type": "stream",
     "text": [
      "/mnt/disks/disk-1/test_packages/cytoflow/.venv/lib/python3.8/site-packages/seaborn/_decorators.py:36: FutureWarning: Pass the following variables as keyword args: x, y. From version 0.12, the only valid positional argument will be `data`, and passing other arguments without an explicit keyword will result in an error or misinterpretation.\n",
      "  warnings.warn(\n"
     ]
    },
    {
     "data": {
      "text/plain": [
       "<AxesSubplot:xlabel='FSC-A', ylabel='FSC-H'>"
      ]
     },
     "execution_count": 21,
     "metadata": {},
     "output_type": "execute_result"
    },
    {
     "data": {
      "image/png": "[encoded data removed]",
      "text/plain": [
       "<Figure size 432x288 with 1 Axes>"
      ]
     },
     "metadata": {
      "needs_background": "light"
     },
     "output_type": "display_data"
    }
   ],
   "source": [
    "sns.scatterplot(data_filt['FSC-A'], data_filt['FSC-H'])"
   ]
  },
  {
   "cell_type": "code",
   "execution_count": 11,
   "metadata": {},
   "outputs": [
    {
     "data": {
      "text/plain": [
       "<matplotlib.collections.PathCollection at 0x7f9a2c131160>"
      ]
     },
     "execution_count": 11,
     "metadata": {},
     "output_type": "execute_result"
    },
    {
     "data": {
      "image/png": "[encoded data removed]",
      "text/plain": [
       "<Figure size 432x288 with 1 Axes>"
      ]
     },
     "metadata": {
      "needs_background": "light"
     },
     "output_type": "display_data"
    }
   ],
   "source": [
    "plt.scatter(data['FSC-A'], data['FSC-H'])"
   ]
  },
  {
   "cell_type": "code",
   "execution_count": null,
   "metadata": {},
   "outputs": [],
   "source": []
  },
  {
   "cell_type": "code",
   "execution_count": null,
   "metadata": {},
   "outputs": [],
   "source": []
  },
  {
   "cell_type": "code",
   "execution_count": null,
   "metadata": {},
   "outputs": [],
   "source": []
  }
 ],
 "metadata": {
  "kernelspec": {
   "display_name": "Python 3 (ipykernel)",
   "language": "python",
   "name": "python3"
  },
  "language_info": {
   "codemirror_mode": {
    "name": "ipython",
    "version": 3
   },
   "file_extension": ".py",
   "mimetype": "text/x-python",
   "name": "python",
   "nbconvert_exporter": "python",
   "pygments_lexer": "ipython3",
   "version": "3.8.13"
  }
 },
 "nbformat": 4,
 "nbformat_minor": 1
}
