{
 "cells": [
  {
   "cell_type": "markdown",
   "metadata": {},
   "source": [
    "# Basic example cytometry workflow\n",
    "\n",
    "Welcome to `cytoflow`!  I'm glad you're here.  The following is a heavily commented workflow for importing a few tubes of cytometry data and doing some (very) basic analysis.  The goal is to give you not only a taste of using the library for interactive work, but also some insight into the rationale for the way it's designed the way it is and the way it differs from existing projects.\n",
    "\n",
    "`cytoflow`'s goal is to enable *quantitative, reproducible* cytometry analysis.  Reproducibility between cytometry experiments is poor, due in part to differences in analysis between operators; but if all your analysis is in a `Jupyter` notebook (like this one!), then sharing and reuse of workflows is much easier.\n",
    "\n",
    "Let's look at a very basic experiment, containing only two tubes.  These two tubes contain cells that are expressing fluorescent proteins as the read-out of some cell state.  We'll assume that these two tubes are identical, except that one has been induced with 1 µM of the small molecule inducer Doxycycline (aka 'Dox') and the other tube has been induced with 10 µM Dox.\n",
    "\n",
    "---"
   ]
  },
  {
   "cell_type": "markdown",
   "metadata": {},
   "source": [
    "Start by setting up Jupyter's plotting interface, then import the `cytoflow` module."
   ]
  },
  {
   "cell_type": "code",
   "execution_count": 6,
   "metadata": {},
   "outputs": [],
   "source": [
    "# in some buggy versions of the Jupyter notebook, this needs to be in its OWN CELL.\n",
    "%matplotlib inline"
   ]
  },
  {
   "cell_type": "code",
   "execution_count": 7,
   "metadata": {},
   "outputs": [],
   "source": [
    "import cytoflow as flow\n",
    "\n",
    "# if your figures are too big or too small, you can scale them by changing matplotlib's DPI\n",
    "import matplotlib\n",
    "matplotlib.rc('figure', dpi = 160)"
   ]
  },
  {
   "cell_type": "markdown",
   "metadata": {},
   "source": [
    "The central data structure in `cytoflow` is the `Experiment`, which is basically a `pandas.DataFrame` containing the events; its associated metadata (experimental conditions and the like); and some methods to manipulate them.\n",
    "\n",
    "You usually create an `Experiment` using an instance of the `ImportOp` class.  Start by defining two tubes, including their experimental conditions (ie, how much Dox is in each); then give those tubes, and a `dict` specifying the experimental conditions' names and types, to `ImportOp`.  Call the `apply()` function to get back the `Experiment` with all the data in it."
   ]
  },
  {
   "cell_type": "code",
   "execution_count": 8,
   "metadata": {},
   "outputs": [],
   "source": [
    "tube1 = flow.Tube(file = 'data/RFP_Well_A3.fcs',\n",
    "                  conditions = {'Dox' : 10.0})\n",
    "tube2 = flow.Tube(file='data/CFP_Well_A4.fcs',\n",
    "                  conditions = {'Dox' : 1.0})\n",
    "\n",
    "import_op = flow.ImportOp(conditions = {'Dox' : 'float'},\n",
    "                          tubes = [tube1, tube2])\n",
    "\n",
    "ex = import_op.apply()"
   ]
  },
  {
   "cell_type": "markdown",
   "metadata": {},
   "source": [
    "Once you have an `Experiment` instance, this is the last time you should ever think about tubes or wells.  Rather, think of your experiment as a very large set of single-cell measurements, each of which has some metadata associated with it; in this case, how much Dox the cell was exposed to.  `cytoflow` helps you focus your analysis on how those measurements change as the experimental conditions change, without worrying about what cells were in what tube.\n",
    "\n",
    "---\n",
    "Let's have a quick look at one of the fluorescence channels, `Y2-A`.  Instantiate a `HistogramView` and tell it which channel we're looking at, then call `plot` and pass it the experiment containing the data.  Remember, this is not a single tube, but rather all the data in the `Experiment`."
   ]
  },
  {
   "cell_type": "code",
   "execution_count": 9,
   "metadata": {},
   "outputs": [
    {
     "data": {
      "image/png": "[encoded data removed]",
      "text/plain": [
       "<Figure size 720x480 with 1 Axes>"
      ]
     },
     "metadata": {
      "needs_background": "light"
     },
     "output_type": "display_data"
    }
   ],
   "source": [
    "hist = flow.HistogramView()\n",
    "hist.channel = 'Y2-A'\n",
    "hist.plot(ex)"
   ]
  },
  {
   "cell_type": "markdown",
   "metadata": {},
   "source": [
    "Hmmm.  This plot is hard to interpret because most of the data is clustered around 0, in the linear range of the detector's response.  Let's re-plot using a different scale.  My favorite is `logicle`, which has a linear response around 0 and a log range elsewhere.  We specify the plot scale by setting the `scale` attribute of `HistogramView` to `logicle`; other options are `log` and `linear`.\n",
    "\n",
    "The cell below also demonstrates a different way to parameterize the `HistogramView` instance, by passing parameters to the constructor instead of setting the values of the instance's attributes after we make it.  Either way is correct."
   ]
  },
  {
   "cell_type": "code",
   "execution_count": 10,
   "metadata": {},
   "outputs": [
    {
     "ename": "AttributeError",
     "evalue": "module 'cytoflow.utility.logicle_ext._Logicle' has no attribute 'FastLogicle_swiginit'",
     "output_type": "error",
     "traceback": [
      "\u001b[0;31m---------------------------------------------------------------------------\u001b[0m",
      "\u001b[0;31mAttributeError\u001b[0m                            Traceback (most recent call last)",
      "Input \u001b[0;32mIn [10]\u001b[0m, in \u001b[0;36m<cell line: 3>\u001b[0;34m()\u001b[0m\n\u001b[1;32m      1\u001b[0m hist \u001b[38;5;241m=\u001b[39m flow\u001b[38;5;241m.\u001b[39mHistogramView(channel \u001b[38;5;241m=\u001b[39m \u001b[38;5;124m'\u001b[39m\u001b[38;5;124mY2-A\u001b[39m\u001b[38;5;124m'\u001b[39m,\n\u001b[1;32m      2\u001b[0m                           scale \u001b[38;5;241m=\u001b[39m \u001b[38;5;124m'\u001b[39m\u001b[38;5;124mlogicle\u001b[39m\u001b[38;5;124m'\u001b[39m)\n\u001b[0;32m----> 3\u001b[0m \u001b[43mhist\u001b[49m\u001b[38;5;241;43m.\u001b[39;49m\u001b[43mplot\u001b[49m\u001b[43m(\u001b[49m\u001b[43mex\u001b[49m\u001b[43m)\u001b[49m\n",
      "File \u001b[0;32m/mnt/disks/disk-1/test_packages/cytoflow/.venv/lib/python3.8/site-packages/cytoflow/views/histogram.py:120\u001b[0m, in \u001b[0;36mHistogramView.plot\u001b[0;34m(self, experiment, **kwargs)\u001b[0m\n\u001b[1;32m    118\u001b[0m     kwargs\u001b[38;5;241m.\u001b[39msetdefault(\u001b[38;5;124m'\u001b[39m\u001b[38;5;124mxlabel\u001b[39m\u001b[38;5;124m'\u001b[39m, ylabel)\n\u001b[1;32m    119\u001b[0m     kwargs\u001b[38;5;241m.\u001b[39msetdefault(\u001b[38;5;124m'\u001b[39m\u001b[38;5;124mylabel\u001b[39m\u001b[38;5;124m'\u001b[39m, \u001b[38;5;28mself\u001b[39m\u001b[38;5;241m.\u001b[39mchannel)\n\u001b[0;32m--> 120\u001b[0m \u001b[38;5;28;43msuper\u001b[39;49m\u001b[43m(\u001b[49m\u001b[43m)\u001b[49m\u001b[38;5;241;43m.\u001b[39;49m\u001b[43mplot\u001b[49m\u001b[43m(\u001b[49m\u001b[43mexperiment\u001b[49m\u001b[43m,\u001b[49m\u001b[43m \u001b[49m\u001b[38;5;241;43m*\u001b[39;49m\u001b[38;5;241;43m*\u001b[39;49m\u001b[43mkwargs\u001b[49m\u001b[43m)\u001b[49m\n",
      "File \u001b[0;32m/mnt/disks/disk-1/test_packages/cytoflow/.venv/lib/python3.8/site-packages/cytoflow/views/base_views.py:475\u001b[0m, in \u001b[0;36mBase1DView.plot\u001b[0;34m(self, experiment, **kwargs)\u001b[0m\n\u001b[1;32m    471\u001b[0m     scale \u001b[38;5;241m=\u001b[39m util\u001b[38;5;241m.\u001b[39mscale_factory(\u001b[38;5;28mself\u001b[39m\u001b[38;5;241m.\u001b[39mscale, experiment, channel \u001b[38;5;241m=\u001b[39m \u001b[38;5;28mself\u001b[39m\u001b[38;5;241m.\u001b[39mchannel)\n\u001b[1;32m    473\u001b[0m lim \u001b[38;5;241m=\u001b[39m kwargs\u001b[38;5;241m.\u001b[39mpop(\u001b[38;5;124m\"\u001b[39m\u001b[38;5;124mlim\u001b[39m\u001b[38;5;124m\"\u001b[39m, \u001b[38;5;28;01mNone\u001b[39;00m)\n\u001b[0;32m--> 475\u001b[0m \u001b[38;5;28;43msuper\u001b[39;49m\u001b[43m(\u001b[49m\u001b[43m)\u001b[49m\u001b[38;5;241;43m.\u001b[39;49m\u001b[43mplot\u001b[49m\u001b[43m(\u001b[49m\u001b[43mexperiment\u001b[49m\u001b[43m,\u001b[49m\n\u001b[1;32m    476\u001b[0m \u001b[43m             \u001b[49m\u001b[43mlim\u001b[49m\u001b[43m \u001b[49m\u001b[38;5;241;43m=\u001b[39;49m\u001b[43m \u001b[49m\u001b[43m{\u001b[49m\u001b[38;5;28;43mself\u001b[39;49m\u001b[38;5;241;43m.\u001b[39;49m\u001b[43mchannel\u001b[49m\u001b[43m \u001b[49m\u001b[43m:\u001b[49m\u001b[43m \u001b[49m\u001b[43mlim\u001b[49m\u001b[43m}\u001b[49m\u001b[43m,\u001b[49m\n\u001b[1;32m    477\u001b[0m \u001b[43m             \u001b[49m\u001b[43mscale\u001b[49m\u001b[43m \u001b[49m\u001b[38;5;241;43m=\u001b[39;49m\u001b[43m \u001b[49m\u001b[43m{\u001b[49m\u001b[38;5;28;43mself\u001b[39;49m\u001b[38;5;241;43m.\u001b[39;49m\u001b[43mchannel\u001b[49m\u001b[43m \u001b[49m\u001b[43m:\u001b[49m\u001b[43m \u001b[49m\u001b[43mscale\u001b[49m\u001b[43m}\u001b[49m\u001b[43m,\u001b[49m\n\u001b[1;32m    478\u001b[0m \u001b[43m             \u001b[49m\u001b[38;5;241;43m*\u001b[39;49m\u001b[38;5;241;43m*\u001b[39;49m\u001b[43mkwargs\u001b[49m\u001b[43m)\u001b[49m\n",
      "File \u001b[0;32m/mnt/disks/disk-1/test_packages/cytoflow/.venv/lib/python3.8/site-packages/cytoflow/views/base_views.py:400\u001b[0m, in \u001b[0;36mBaseDataView.plot\u001b[0;34m(self, experiment, **kwargs)\u001b[0m\n\u001b[1;32m    395\u001b[0m     \u001b[38;5;28;01melse\u001b[39;00m:\n\u001b[1;32m    396\u001b[0m         \u001b[38;5;28;01mraise\u001b[39;00m util\u001b[38;5;241m.\u001b[39mCytoflowError(\u001b[38;5;124m'\u001b[39m\u001b[38;5;124mlim\u001b[39m\u001b[38;5;124m'\u001b[39m,\n\u001b[1;32m    397\u001b[0m                                  \u001b[38;5;124m\"\u001b[39m\u001b[38;5;124mlim\u001b[39m\u001b[38;5;124m\\\u001b[39m\u001b[38;5;124m[\u001b[39m\u001b[38;5;132;01m{}\u001b[39;00m\u001b[38;5;124m\\\u001b[39m\u001b[38;5;124m] is an unknown data type\u001b[39m\u001b[38;5;124m\"\u001b[39m\n\u001b[1;32m    398\u001b[0m                                  \u001b[38;5;241m.\u001b[39mformat(c))\n\u001b[0;32m--> 400\u001b[0m     lim[c] \u001b[38;5;241m=\u001b[39m [scale[c]\u001b[38;5;241m.\u001b[39mclip(x) \u001b[38;5;28;01mfor\u001b[39;00m x \u001b[38;5;129;01min\u001b[39;00m lim[c]]\n\u001b[1;32m    403\u001b[0m facets \u001b[38;5;241m=\u001b[39m [x \u001b[38;5;28;01mfor\u001b[39;00m x \u001b[38;5;129;01min\u001b[39;00m [\u001b[38;5;28mself\u001b[39m\u001b[38;5;241m.\u001b[39mxfacet, \u001b[38;5;28mself\u001b[39m\u001b[38;5;241m.\u001b[39myfacet, \u001b[38;5;28mself\u001b[39m\u001b[38;5;241m.\u001b[39mhuefacet] \u001b[38;5;28;01mif\u001b[39;00m x]\n\u001b[1;32m    405\u001b[0m \u001b[38;5;28;01mif\u001b[39;00m \u001b[38;5;28mlen\u001b[39m(facets) \u001b[38;5;241m!=\u001b[39m \u001b[38;5;28mlen\u001b[39m(\u001b[38;5;28mset\u001b[39m(facets)):\n",
      "File \u001b[0;32m/mnt/disks/disk-1/test_packages/cytoflow/.venv/lib/python3.8/site-packages/cytoflow/views/base_views.py:400\u001b[0m, in \u001b[0;36m<listcomp>\u001b[0;34m(.0)\u001b[0m\n\u001b[1;32m    395\u001b[0m     \u001b[38;5;28;01melse\u001b[39;00m:\n\u001b[1;32m    396\u001b[0m         \u001b[38;5;28;01mraise\u001b[39;00m util\u001b[38;5;241m.\u001b[39mCytoflowError(\u001b[38;5;124m'\u001b[39m\u001b[38;5;124mlim\u001b[39m\u001b[38;5;124m'\u001b[39m,\n\u001b[1;32m    397\u001b[0m                                  \u001b[38;5;124m\"\u001b[39m\u001b[38;5;124mlim\u001b[39m\u001b[38;5;124m\\\u001b[39m\u001b[38;5;124m[\u001b[39m\u001b[38;5;132;01m{}\u001b[39;00m\u001b[38;5;124m\\\u001b[39m\u001b[38;5;124m] is an unknown data type\u001b[39m\u001b[38;5;124m\"\u001b[39m\n\u001b[1;32m    398\u001b[0m                                  \u001b[38;5;241m.\u001b[39mformat(c))\n\u001b[0;32m--> 400\u001b[0m     lim[c] \u001b[38;5;241m=\u001b[39m [\u001b[43mscale\u001b[49m\u001b[43m[\u001b[49m\u001b[43mc\u001b[49m\u001b[43m]\u001b[49m\u001b[38;5;241;43m.\u001b[39;49m\u001b[43mclip\u001b[49m\u001b[43m(\u001b[49m\u001b[43mx\u001b[49m\u001b[43m)\u001b[49m \u001b[38;5;28;01mfor\u001b[39;00m x \u001b[38;5;129;01min\u001b[39;00m lim[c]]\n\u001b[1;32m    403\u001b[0m facets \u001b[38;5;241m=\u001b[39m [x \u001b[38;5;28;01mfor\u001b[39;00m x \u001b[38;5;129;01min\u001b[39;00m [\u001b[38;5;28mself\u001b[39m\u001b[38;5;241m.\u001b[39mxfacet, \u001b[38;5;28mself\u001b[39m\u001b[38;5;241m.\u001b[39myfacet, \u001b[38;5;28mself\u001b[39m\u001b[38;5;241m.\u001b[39mhuefacet] \u001b[38;5;28;01mif\u001b[39;00m x]\n\u001b[1;32m    405\u001b[0m \u001b[38;5;28;01mif\u001b[39;00m \u001b[38;5;28mlen\u001b[39m(facets) \u001b[38;5;241m!=\u001b[39m \u001b[38;5;28mlen\u001b[39m(\u001b[38;5;28mset\u001b[39m(facets)):\n",
      "File \u001b[0;32m/mnt/disks/disk-1/test_packages/cytoflow/.venv/lib/python3.8/site-packages/cytoflow/utility/logicle_scale.py:202\u001b[0m, in \u001b[0;36mLogicleScale.clip\u001b[0;34m(self, data)\u001b[0m\n\u001b[1;32m    200\u001b[0m \u001b[38;5;28;01mdef\u001b[39;00m \u001b[38;5;21mclip\u001b[39m(\u001b[38;5;28mself\u001b[39m, data):\n\u001b[1;32m    201\u001b[0m     \u001b[38;5;28;01mtry\u001b[39;00m:\n\u001b[0;32m--> 202\u001b[0m         logicle_min \u001b[38;5;241m=\u001b[39m \u001b[38;5;28;43mself\u001b[39;49m\u001b[38;5;241;43m.\u001b[39;49m\u001b[43m_logicle\u001b[49m\u001b[38;5;241m.\u001b[39minverse(\u001b[38;5;241m0.0\u001b[39m)\n\u001b[1;32m    203\u001b[0m         logicle_max \u001b[38;5;241m=\u001b[39m \u001b[38;5;28mself\u001b[39m\u001b[38;5;241m.\u001b[39m_logicle\u001b[38;5;241m.\u001b[39minverse(\u001b[38;5;241m1.0\u001b[39m \u001b[38;5;241m-\u001b[39m sys\u001b[38;5;241m.\u001b[39mfloat_info\u001b[38;5;241m.\u001b[39mepsilon)\n\u001b[1;32m    204\u001b[0m         \u001b[38;5;28;01mif\u001b[39;00m \u001b[38;5;28misinstance\u001b[39m(data, pd\u001b[38;5;241m.\u001b[39mSeries):            \n",
      "File \u001b[0;32m/mnt/disks/disk-1/test_packages/cytoflow/.venv/lib/python3.8/site-packages/traits/has_traits.py:927\u001b[0m, in \u001b[0;36mcached_property.<locals>.decorator\u001b[0;34m(self)\u001b[0m\n\u001b[1;32m    925\u001b[0m result \u001b[38;5;241m=\u001b[39m \u001b[38;5;28mself\u001b[39m\u001b[38;5;241m.\u001b[39m\u001b[38;5;18m__dict__\u001b[39m\u001b[38;5;241m.\u001b[39mget(name, Undefined)\n\u001b[1;32m    926\u001b[0m \u001b[38;5;28;01mif\u001b[39;00m result \u001b[38;5;129;01mis\u001b[39;00m Undefined:\n\u001b[0;32m--> 927\u001b[0m     \u001b[38;5;28mself\u001b[39m\u001b[38;5;241m.\u001b[39m\u001b[38;5;18m__dict__\u001b[39m[name] \u001b[38;5;241m=\u001b[39m result \u001b[38;5;241m=\u001b[39m \u001b[43mfunction\u001b[49m\u001b[43m(\u001b[49m\u001b[38;5;28;43mself\u001b[39;49m\u001b[43m)\u001b[49m\n\u001b[1;32m    929\u001b[0m \u001b[38;5;28;01mreturn\u001b[39;00m result\n",
      "File \u001b[0;32m/mnt/disks/disk-1/test_packages/cytoflow/.venv/lib/python3.8/site-packages/cytoflow/utility/logicle_scale.py:337\u001b[0m, in \u001b[0;36mLogicleScale._get__logicle\u001b[0;34m(self)\u001b[0m\n\u001b[1;32m    334\u001b[0m \u001b[38;5;28;01mif\u001b[39;00m (\u001b[38;5;241m-\u001b[39m\u001b[38;5;28mself\u001b[39m\u001b[38;5;241m.\u001b[39mA \u001b[38;5;241m>\u001b[39m \u001b[38;5;28mself\u001b[39m\u001b[38;5;241m.\u001b[39mW \u001b[38;5;129;01mor\u001b[39;00m \u001b[38;5;28mself\u001b[39m\u001b[38;5;241m.\u001b[39mA \u001b[38;5;241m+\u001b[39m \u001b[38;5;28mself\u001b[39m\u001b[38;5;241m.\u001b[39mW \u001b[38;5;241m>\u001b[39m \u001b[38;5;28mself\u001b[39m\u001b[38;5;241m.\u001b[39mM \u001b[38;5;241m-\u001b[39m \u001b[38;5;28mself\u001b[39m\u001b[38;5;241m.\u001b[39mW):\n\u001b[1;32m    335\u001b[0m     \u001b[38;5;28;01mraise\u001b[39;00m CytoflowError(\u001b[38;5;124m\"\u001b[39m\u001b[38;5;124mLogicle param A is too large.\u001b[39m\u001b[38;5;124m\"\u001b[39m)\n\u001b[0;32m--> 337\u001b[0m \u001b[38;5;28;01mreturn\u001b[39;00m \u001b[43mFastLogicle\u001b[49m\u001b[43m(\u001b[49m\u001b[38;5;28;43mself\u001b[39;49m\u001b[38;5;241;43m.\u001b[39;49m\u001b[43m_T\u001b[49m\u001b[43m,\u001b[49m\u001b[43m \u001b[49m\u001b[38;5;28;43mself\u001b[39;49m\u001b[38;5;241;43m.\u001b[39;49m\u001b[43mW\u001b[49m\u001b[43m,\u001b[49m\u001b[43m \u001b[49m\u001b[38;5;28;43mself\u001b[39;49m\u001b[38;5;241;43m.\u001b[39;49m\u001b[43mM\u001b[49m\u001b[43m,\u001b[49m\u001b[43m \u001b[49m\u001b[38;5;28;43mself\u001b[39;49m\u001b[38;5;241;43m.\u001b[39;49m\u001b[43mA\u001b[49m\u001b[43m)\u001b[49m\n",
      "File \u001b[0;32m/mnt/disks/disk-1/test_packages/cytoflow/.venv/lib/python3.8/site-packages/cytoflow/utility/logicle_ext/Logicle.py:134\u001b[0m, in \u001b[0;36mFastLogicle.__init__\u001b[0;34m(self, *args)\u001b[0m\n\u001b[1;32m    133\u001b[0m \u001b[38;5;28;01mdef\u001b[39;00m \u001b[38;5;21m__init__\u001b[39m(\u001b[38;5;28mself\u001b[39m, \u001b[38;5;241m*\u001b[39margs):\n\u001b[0;32m--> 134\u001b[0m     \u001b[43m_Logicle\u001b[49m\u001b[38;5;241;43m.\u001b[39;49m\u001b[43mFastLogicle_swiginit\u001b[49m(\u001b[38;5;28mself\u001b[39m, _Logicle\u001b[38;5;241m.\u001b[39mnew_FastLogicle(\u001b[38;5;241m*\u001b[39margs))\n",
      "\u001b[0;31mAttributeError\u001b[0m: module 'cytoflow.utility.logicle_ext._Logicle' has no attribute 'FastLogicle_swiginit'"
     ]
    }
   ],
   "source": [
    "hist = flow.HistogramView(channel = 'Y2-A',\n",
    "                          scale = 'logicle')\n",
    "hist.plot(ex)"
   ]
  },
  {
   "cell_type": "markdown",
   "metadata": {},
   "source": [
    "Ah, much better.  There is clearly a population of cells around 0 and a population of cells around about 5000.  But!  This is the entire `Experiment` -- is is one of the populations from the low-Dox tube and the other population from the high-Dox tube?\n",
    "\n",
    "Let's see if the histogram is different for the two different concentrations of inducer. `CytoFlow`'s plotting takes inspiration from Trellis plots (eg the lattice package in R): to split the data into subsets, you tell the plotting module which metadata \"facet\" you want to plot in the X, Y and color (hue) axes.\n",
    "\n",
    "This time, we tell `HistogramView` to make a separate plot for each different value of Dox and stack them on top of eachother by saying `yfacet = 'Dox'`; if we wanted the plots side-by-side, we would have said `xfacet = 'Dox'`.  \n",
    "\n",
    "Also note that this time, we don't keep around the `HistogramView` object; if we don't need to re-use it, we can just call `plot` right after the constructor."
   ]
  },
  {
   "cell_type": "code",
   "execution_count": 11,
   "metadata": {},
   "outputs": [
    {
     "ename": "AttributeError",
     "evalue": "module 'cytoflow.utility.logicle_ext._Logicle' has no attribute 'FastLogicle_swiginit'",
     "output_type": "error",
     "traceback": [
      "\u001b[0;31m---------------------------------------------------------------------------\u001b[0m",
      "\u001b[0;31mAttributeError\u001b[0m                            Traceback (most recent call last)",
      "Input \u001b[0;32mIn [11]\u001b[0m, in \u001b[0;36m<cell line: 1>\u001b[0;34m()\u001b[0m\n\u001b[0;32m----> 1\u001b[0m \u001b[43mflow\u001b[49m\u001b[38;5;241;43m.\u001b[39;49m\u001b[43mHistogramView\u001b[49m\u001b[43m(\u001b[49m\u001b[43mchannel\u001b[49m\u001b[43m \u001b[49m\u001b[38;5;241;43m=\u001b[39;49m\u001b[43m \u001b[49m\u001b[38;5;124;43m'\u001b[39;49m\u001b[38;5;124;43mY2-A\u001b[39;49m\u001b[38;5;124;43m'\u001b[39;49m\u001b[43m,\u001b[49m\n\u001b[1;32m      2\u001b[0m \u001b[43m                   \u001b[49m\u001b[43mscale\u001b[49m\u001b[43m \u001b[49m\u001b[38;5;241;43m=\u001b[39;49m\u001b[43m \u001b[49m\u001b[38;5;124;43m'\u001b[39;49m\u001b[38;5;124;43mlogicle\u001b[39;49m\u001b[38;5;124;43m'\u001b[39;49m\u001b[43m,\u001b[49m\n\u001b[1;32m      3\u001b[0m \u001b[43m                   \u001b[49m\u001b[43myfacet\u001b[49m\u001b[43m \u001b[49m\u001b[38;5;241;43m=\u001b[39;49m\u001b[43m \u001b[49m\u001b[38;5;124;43m'\u001b[39;49m\u001b[38;5;124;43mDox\u001b[39;49m\u001b[38;5;124;43m'\u001b[39;49m\u001b[43m)\u001b[49m\u001b[38;5;241;43m.\u001b[39;49m\u001b[43mplot\u001b[49m\u001b[43m(\u001b[49m\u001b[43mex\u001b[49m\u001b[43m)\u001b[49m\n",
      "File \u001b[0;32m/mnt/disks/disk-1/test_packages/cytoflow/.venv/lib/python3.8/site-packages/cytoflow/views/histogram.py:120\u001b[0m, in \u001b[0;36mHistogramView.plot\u001b[0;34m(self, experiment, **kwargs)\u001b[0m\n\u001b[1;32m    118\u001b[0m     kwargs\u001b[38;5;241m.\u001b[39msetdefault(\u001b[38;5;124m'\u001b[39m\u001b[38;5;124mxlabel\u001b[39m\u001b[38;5;124m'\u001b[39m, ylabel)\n\u001b[1;32m    119\u001b[0m     kwargs\u001b[38;5;241m.\u001b[39msetdefault(\u001b[38;5;124m'\u001b[39m\u001b[38;5;124mylabel\u001b[39m\u001b[38;5;124m'\u001b[39m, \u001b[38;5;28mself\u001b[39m\u001b[38;5;241m.\u001b[39mchannel)\n\u001b[0;32m--> 120\u001b[0m \u001b[38;5;28;43msuper\u001b[39;49m\u001b[43m(\u001b[49m\u001b[43m)\u001b[49m\u001b[38;5;241;43m.\u001b[39;49m\u001b[43mplot\u001b[49m\u001b[43m(\u001b[49m\u001b[43mexperiment\u001b[49m\u001b[43m,\u001b[49m\u001b[43m \u001b[49m\u001b[38;5;241;43m*\u001b[39;49m\u001b[38;5;241;43m*\u001b[39;49m\u001b[43mkwargs\u001b[49m\u001b[43m)\u001b[49m\n",
      "File \u001b[0;32m/mnt/disks/disk-1/test_packages/cytoflow/.venv/lib/python3.8/site-packages/cytoflow/views/base_views.py:475\u001b[0m, in \u001b[0;36mBase1DView.plot\u001b[0;34m(self, experiment, **kwargs)\u001b[0m\n\u001b[1;32m    471\u001b[0m     scale \u001b[38;5;241m=\u001b[39m util\u001b[38;5;241m.\u001b[39mscale_factory(\u001b[38;5;28mself\u001b[39m\u001b[38;5;241m.\u001b[39mscale, experiment, channel \u001b[38;5;241m=\u001b[39m \u001b[38;5;28mself\u001b[39m\u001b[38;5;241m.\u001b[39mchannel)\n\u001b[1;32m    473\u001b[0m lim \u001b[38;5;241m=\u001b[39m kwargs\u001b[38;5;241m.\u001b[39mpop(\u001b[38;5;124m\"\u001b[39m\u001b[38;5;124mlim\u001b[39m\u001b[38;5;124m\"\u001b[39m, \u001b[38;5;28;01mNone\u001b[39;00m)\n\u001b[0;32m--> 475\u001b[0m \u001b[38;5;28;43msuper\u001b[39;49m\u001b[43m(\u001b[49m\u001b[43m)\u001b[49m\u001b[38;5;241;43m.\u001b[39;49m\u001b[43mplot\u001b[49m\u001b[43m(\u001b[49m\u001b[43mexperiment\u001b[49m\u001b[43m,\u001b[49m\n\u001b[1;32m    476\u001b[0m \u001b[43m             \u001b[49m\u001b[43mlim\u001b[49m\u001b[43m \u001b[49m\u001b[38;5;241;43m=\u001b[39;49m\u001b[43m \u001b[49m\u001b[43m{\u001b[49m\u001b[38;5;28;43mself\u001b[39;49m\u001b[38;5;241;43m.\u001b[39;49m\u001b[43mchannel\u001b[49m\u001b[43m \u001b[49m\u001b[43m:\u001b[49m\u001b[43m \u001b[49m\u001b[43mlim\u001b[49m\u001b[43m}\u001b[49m\u001b[43m,\u001b[49m\n\u001b[1;32m    477\u001b[0m \u001b[43m             \u001b[49m\u001b[43mscale\u001b[49m\u001b[43m \u001b[49m\u001b[38;5;241;43m=\u001b[39;49m\u001b[43m \u001b[49m\u001b[43m{\u001b[49m\u001b[38;5;28;43mself\u001b[39;49m\u001b[38;5;241;43m.\u001b[39;49m\u001b[43mchannel\u001b[49m\u001b[43m \u001b[49m\u001b[43m:\u001b[49m\u001b[43m \u001b[49m\u001b[43mscale\u001b[49m\u001b[43m}\u001b[49m\u001b[43m,\u001b[49m\n\u001b[1;32m    478\u001b[0m \u001b[43m             \u001b[49m\u001b[38;5;241;43m*\u001b[39;49m\u001b[38;5;241;43m*\u001b[39;49m\u001b[43mkwargs\u001b[49m\u001b[43m)\u001b[49m\n",
      "File \u001b[0;32m/mnt/disks/disk-1/test_packages/cytoflow/.venv/lib/python3.8/site-packages/cytoflow/views/base_views.py:400\u001b[0m, in \u001b[0;36mBaseDataView.plot\u001b[0;34m(self, experiment, **kwargs)\u001b[0m\n\u001b[1;32m    395\u001b[0m     \u001b[38;5;28;01melse\u001b[39;00m:\n\u001b[1;32m    396\u001b[0m         \u001b[38;5;28;01mraise\u001b[39;00m util\u001b[38;5;241m.\u001b[39mCytoflowError(\u001b[38;5;124m'\u001b[39m\u001b[38;5;124mlim\u001b[39m\u001b[38;5;124m'\u001b[39m,\n\u001b[1;32m    397\u001b[0m                                  \u001b[38;5;124m\"\u001b[39m\u001b[38;5;124mlim\u001b[39m\u001b[38;5;124m\\\u001b[39m\u001b[38;5;124m[\u001b[39m\u001b[38;5;132;01m{}\u001b[39;00m\u001b[38;5;124m\\\u001b[39m\u001b[38;5;124m] is an unknown data type\u001b[39m\u001b[38;5;124m\"\u001b[39m\n\u001b[1;32m    398\u001b[0m                                  \u001b[38;5;241m.\u001b[39mformat(c))\n\u001b[0;32m--> 400\u001b[0m     lim[c] \u001b[38;5;241m=\u001b[39m [scale[c]\u001b[38;5;241m.\u001b[39mclip(x) \u001b[38;5;28;01mfor\u001b[39;00m x \u001b[38;5;129;01min\u001b[39;00m lim[c]]\n\u001b[1;32m    403\u001b[0m facets \u001b[38;5;241m=\u001b[39m [x \u001b[38;5;28;01mfor\u001b[39;00m x \u001b[38;5;129;01min\u001b[39;00m [\u001b[38;5;28mself\u001b[39m\u001b[38;5;241m.\u001b[39mxfacet, \u001b[38;5;28mself\u001b[39m\u001b[38;5;241m.\u001b[39myfacet, \u001b[38;5;28mself\u001b[39m\u001b[38;5;241m.\u001b[39mhuefacet] \u001b[38;5;28;01mif\u001b[39;00m x]\n\u001b[1;32m    405\u001b[0m \u001b[38;5;28;01mif\u001b[39;00m \u001b[38;5;28mlen\u001b[39m(facets) \u001b[38;5;241m!=\u001b[39m \u001b[38;5;28mlen\u001b[39m(\u001b[38;5;28mset\u001b[39m(facets)):\n",
      "File \u001b[0;32m/mnt/disks/disk-1/test_packages/cytoflow/.venv/lib/python3.8/site-packages/cytoflow/views/base_views.py:400\u001b[0m, in \u001b[0;36m<listcomp>\u001b[0;34m(.0)\u001b[0m\n\u001b[1;32m    395\u001b[0m     \u001b[38;5;28;01melse\u001b[39;00m:\n\u001b[1;32m    396\u001b[0m         \u001b[38;5;28;01mraise\u001b[39;00m util\u001b[38;5;241m.\u001b[39mCytoflowError(\u001b[38;5;124m'\u001b[39m\u001b[38;5;124mlim\u001b[39m\u001b[38;5;124m'\u001b[39m,\n\u001b[1;32m    397\u001b[0m                                  \u001b[38;5;124m\"\u001b[39m\u001b[38;5;124mlim\u001b[39m\u001b[38;5;124m\\\u001b[39m\u001b[38;5;124m[\u001b[39m\u001b[38;5;132;01m{}\u001b[39;00m\u001b[38;5;124m\\\u001b[39m\u001b[38;5;124m] is an unknown data type\u001b[39m\u001b[38;5;124m\"\u001b[39m\n\u001b[1;32m    398\u001b[0m                                  \u001b[38;5;241m.\u001b[39mformat(c))\n\u001b[0;32m--> 400\u001b[0m     lim[c] \u001b[38;5;241m=\u001b[39m [\u001b[43mscale\u001b[49m\u001b[43m[\u001b[49m\u001b[43mc\u001b[49m\u001b[43m]\u001b[49m\u001b[38;5;241;43m.\u001b[39;49m\u001b[43mclip\u001b[49m\u001b[43m(\u001b[49m\u001b[43mx\u001b[49m\u001b[43m)\u001b[49m \u001b[38;5;28;01mfor\u001b[39;00m x \u001b[38;5;129;01min\u001b[39;00m lim[c]]\n\u001b[1;32m    403\u001b[0m facets \u001b[38;5;241m=\u001b[39m [x \u001b[38;5;28;01mfor\u001b[39;00m x \u001b[38;5;129;01min\u001b[39;00m [\u001b[38;5;28mself\u001b[39m\u001b[38;5;241m.\u001b[39mxfacet, \u001b[38;5;28mself\u001b[39m\u001b[38;5;241m.\u001b[39myfacet, \u001b[38;5;28mself\u001b[39m\u001b[38;5;241m.\u001b[39mhuefacet] \u001b[38;5;28;01mif\u001b[39;00m x]\n\u001b[1;32m    405\u001b[0m \u001b[38;5;28;01mif\u001b[39;00m \u001b[38;5;28mlen\u001b[39m(facets) \u001b[38;5;241m!=\u001b[39m \u001b[38;5;28mlen\u001b[39m(\u001b[38;5;28mset\u001b[39m(facets)):\n",
      "File \u001b[0;32m/mnt/disks/disk-1/test_packages/cytoflow/.venv/lib/python3.8/site-packages/cytoflow/utility/logicle_scale.py:202\u001b[0m, in \u001b[0;36mLogicleScale.clip\u001b[0;34m(self, data)\u001b[0m\n\u001b[1;32m    200\u001b[0m \u001b[38;5;28;01mdef\u001b[39;00m \u001b[38;5;21mclip\u001b[39m(\u001b[38;5;28mself\u001b[39m, data):\n\u001b[1;32m    201\u001b[0m     \u001b[38;5;28;01mtry\u001b[39;00m:\n\u001b[0;32m--> 202\u001b[0m         logicle_min \u001b[38;5;241m=\u001b[39m \u001b[38;5;28;43mself\u001b[39;49m\u001b[38;5;241;43m.\u001b[39;49m\u001b[43m_logicle\u001b[49m\u001b[38;5;241m.\u001b[39minverse(\u001b[38;5;241m0.0\u001b[39m)\n\u001b[1;32m    203\u001b[0m         logicle_max \u001b[38;5;241m=\u001b[39m \u001b[38;5;28mself\u001b[39m\u001b[38;5;241m.\u001b[39m_logicle\u001b[38;5;241m.\u001b[39minverse(\u001b[38;5;241m1.0\u001b[39m \u001b[38;5;241m-\u001b[39m sys\u001b[38;5;241m.\u001b[39mfloat_info\u001b[38;5;241m.\u001b[39mepsilon)\n\u001b[1;32m    204\u001b[0m         \u001b[38;5;28;01mif\u001b[39;00m \u001b[38;5;28misinstance\u001b[39m(data, pd\u001b[38;5;241m.\u001b[39mSeries):            \n",
      "File \u001b[0;32m/mnt/disks/disk-1/test_packages/cytoflow/.venv/lib/python3.8/site-packages/traits/has_traits.py:927\u001b[0m, in \u001b[0;36mcached_property.<locals>.decorator\u001b[0;34m(self)\u001b[0m\n\u001b[1;32m    925\u001b[0m result \u001b[38;5;241m=\u001b[39m \u001b[38;5;28mself\u001b[39m\u001b[38;5;241m.\u001b[39m\u001b[38;5;18m__dict__\u001b[39m\u001b[38;5;241m.\u001b[39mget(name, Undefined)\n\u001b[1;32m    926\u001b[0m \u001b[38;5;28;01mif\u001b[39;00m result \u001b[38;5;129;01mis\u001b[39;00m Undefined:\n\u001b[0;32m--> 927\u001b[0m     \u001b[38;5;28mself\u001b[39m\u001b[38;5;241m.\u001b[39m\u001b[38;5;18m__dict__\u001b[39m[name] \u001b[38;5;241m=\u001b[39m result \u001b[38;5;241m=\u001b[39m \u001b[43mfunction\u001b[49m\u001b[43m(\u001b[49m\u001b[38;5;28;43mself\u001b[39;49m\u001b[43m)\u001b[49m\n\u001b[1;32m    929\u001b[0m \u001b[38;5;28;01mreturn\u001b[39;00m result\n",
      "File \u001b[0;32m/mnt/disks/disk-1/test_packages/cytoflow/.venv/lib/python3.8/site-packages/cytoflow/utility/logicle_scale.py:337\u001b[0m, in \u001b[0;36mLogicleScale._get__logicle\u001b[0;34m(self)\u001b[0m\n\u001b[1;32m    334\u001b[0m \u001b[38;5;28;01mif\u001b[39;00m (\u001b[38;5;241m-\u001b[39m\u001b[38;5;28mself\u001b[39m\u001b[38;5;241m.\u001b[39mA \u001b[38;5;241m>\u001b[39m \u001b[38;5;28mself\u001b[39m\u001b[38;5;241m.\u001b[39mW \u001b[38;5;129;01mor\u001b[39;00m \u001b[38;5;28mself\u001b[39m\u001b[38;5;241m.\u001b[39mA \u001b[38;5;241m+\u001b[39m \u001b[38;5;28mself\u001b[39m\u001b[38;5;241m.\u001b[39mW \u001b[38;5;241m>\u001b[39m \u001b[38;5;28mself\u001b[39m\u001b[38;5;241m.\u001b[39mM \u001b[38;5;241m-\u001b[39m \u001b[38;5;28mself\u001b[39m\u001b[38;5;241m.\u001b[39mW):\n\u001b[1;32m    335\u001b[0m     \u001b[38;5;28;01mraise\u001b[39;00m CytoflowError(\u001b[38;5;124m\"\u001b[39m\u001b[38;5;124mLogicle param A is too large.\u001b[39m\u001b[38;5;124m\"\u001b[39m)\n\u001b[0;32m--> 337\u001b[0m \u001b[38;5;28;01mreturn\u001b[39;00m \u001b[43mFastLogicle\u001b[49m\u001b[43m(\u001b[49m\u001b[38;5;28;43mself\u001b[39;49m\u001b[38;5;241;43m.\u001b[39;49m\u001b[43m_T\u001b[49m\u001b[43m,\u001b[49m\u001b[43m \u001b[49m\u001b[38;5;28;43mself\u001b[39;49m\u001b[38;5;241;43m.\u001b[39;49m\u001b[43mW\u001b[49m\u001b[43m,\u001b[49m\u001b[43m \u001b[49m\u001b[38;5;28;43mself\u001b[39;49m\u001b[38;5;241;43m.\u001b[39;49m\u001b[43mM\u001b[49m\u001b[43m,\u001b[49m\u001b[43m \u001b[49m\u001b[38;5;28;43mself\u001b[39;49m\u001b[38;5;241;43m.\u001b[39;49m\u001b[43mA\u001b[49m\u001b[43m)\u001b[49m\n",
      "File \u001b[0;32m/mnt/disks/disk-1/test_packages/cytoflow/.venv/lib/python3.8/site-packages/cytoflow/utility/logicle_ext/Logicle.py:134\u001b[0m, in \u001b[0;36mFastLogicle.__init__\u001b[0;34m(self, *args)\u001b[0m\n\u001b[1;32m    133\u001b[0m \u001b[38;5;28;01mdef\u001b[39;00m \u001b[38;5;21m__init__\u001b[39m(\u001b[38;5;28mself\u001b[39m, \u001b[38;5;241m*\u001b[39margs):\n\u001b[0;32m--> 134\u001b[0m     \u001b[43m_Logicle\u001b[49m\u001b[38;5;241;43m.\u001b[39;49m\u001b[43mFastLogicle_swiginit\u001b[49m(\u001b[38;5;28mself\u001b[39m, _Logicle\u001b[38;5;241m.\u001b[39mnew_FastLogicle(\u001b[38;5;241m*\u001b[39margs))\n",
      "\u001b[0;31mAttributeError\u001b[0m: module 'cytoflow.utility.logicle_ext._Logicle' has no attribute 'FastLogicle_swiginit'"
     ]
    }
   ],
   "source": [
    "flow.HistogramView(channel = 'Y2-A',\n",
    "                   scale = 'logicle',\n",
    "                   yfacet = 'Dox').plot(ex)"
   ]
  },
  {
   "cell_type": "markdown",
   "metadata": {},
   "source": [
    "Indeed, the two tubes have dramatically different histograms.  We could also plot them on top of eachother with different colors, by using `huefacet` instead of `yfacet`."
   ]
  },
  {
   "cell_type": "code",
   "execution_count": 12,
   "metadata": {},
   "outputs": [
    {
     "ename": "AttributeError",
     "evalue": "module 'cytoflow.utility.logicle_ext._Logicle' has no attribute 'FastLogicle_swiginit'",
     "output_type": "error",
     "traceback": [
      "\u001b[0;31m---------------------------------------------------------------------------\u001b[0m",
      "\u001b[0;31mAttributeError\u001b[0m                            Traceback (most recent call last)",
      "Input \u001b[0;32mIn [12]\u001b[0m, in \u001b[0;36m<cell line: 1>\u001b[0;34m()\u001b[0m\n\u001b[0;32m----> 1\u001b[0m \u001b[43mflow\u001b[49m\u001b[38;5;241;43m.\u001b[39;49m\u001b[43mHistogramView\u001b[49m\u001b[43m(\u001b[49m\u001b[43mchannel\u001b[49m\u001b[43m \u001b[49m\u001b[38;5;241;43m=\u001b[39;49m\u001b[43m \u001b[49m\u001b[38;5;124;43m\"\u001b[39;49m\u001b[38;5;124;43mY2-A\u001b[39;49m\u001b[38;5;124;43m\"\u001b[39;49m\u001b[43m,\u001b[49m\n\u001b[1;32m      2\u001b[0m \u001b[43m                   \u001b[49m\u001b[43mscale\u001b[49m\u001b[43m \u001b[49m\u001b[38;5;241;43m=\u001b[39;49m\u001b[43m \u001b[49m\u001b[38;5;124;43m\"\u001b[39;49m\u001b[38;5;124;43mlogicle\u001b[39;49m\u001b[38;5;124;43m\"\u001b[39;49m\u001b[43m,\u001b[49m\n\u001b[1;32m      3\u001b[0m \u001b[43m                   \u001b[49m\u001b[43mhuefacet\u001b[49m\u001b[43m \u001b[49m\u001b[38;5;241;43m=\u001b[39;49m\u001b[43m \u001b[49m\u001b[38;5;124;43m'\u001b[39;49m\u001b[38;5;124;43mDox\u001b[39;49m\u001b[38;5;124;43m'\u001b[39;49m\u001b[43m)\u001b[49m\u001b[38;5;241;43m.\u001b[39;49m\u001b[43mplot\u001b[49m\u001b[43m(\u001b[49m\u001b[43mex\u001b[49m\u001b[43m)\u001b[49m\n",
      "File \u001b[0;32m/mnt/disks/disk-1/test_packages/cytoflow/.venv/lib/python3.8/site-packages/cytoflow/views/histogram.py:120\u001b[0m, in \u001b[0;36mHistogramView.plot\u001b[0;34m(self, experiment, **kwargs)\u001b[0m\n\u001b[1;32m    118\u001b[0m     kwargs\u001b[38;5;241m.\u001b[39msetdefault(\u001b[38;5;124m'\u001b[39m\u001b[38;5;124mxlabel\u001b[39m\u001b[38;5;124m'\u001b[39m, ylabel)\n\u001b[1;32m    119\u001b[0m     kwargs\u001b[38;5;241m.\u001b[39msetdefault(\u001b[38;5;124m'\u001b[39m\u001b[38;5;124mylabel\u001b[39m\u001b[38;5;124m'\u001b[39m, \u001b[38;5;28mself\u001b[39m\u001b[38;5;241m.\u001b[39mchannel)\n\u001b[0;32m--> 120\u001b[0m \u001b[38;5;28;43msuper\u001b[39;49m\u001b[43m(\u001b[49m\u001b[43m)\u001b[49m\u001b[38;5;241;43m.\u001b[39;49m\u001b[43mplot\u001b[49m\u001b[43m(\u001b[49m\u001b[43mexperiment\u001b[49m\u001b[43m,\u001b[49m\u001b[43m \u001b[49m\u001b[38;5;241;43m*\u001b[39;49m\u001b[38;5;241;43m*\u001b[39;49m\u001b[43mkwargs\u001b[49m\u001b[43m)\u001b[49m\n",
      "File \u001b[0;32m/mnt/disks/disk-1/test_packages/cytoflow/.venv/lib/python3.8/site-packages/cytoflow/views/base_views.py:475\u001b[0m, in \u001b[0;36mBase1DView.plot\u001b[0;34m(self, experiment, **kwargs)\u001b[0m\n\u001b[1;32m    471\u001b[0m     scale \u001b[38;5;241m=\u001b[39m util\u001b[38;5;241m.\u001b[39mscale_factory(\u001b[38;5;28mself\u001b[39m\u001b[38;5;241m.\u001b[39mscale, experiment, channel \u001b[38;5;241m=\u001b[39m \u001b[38;5;28mself\u001b[39m\u001b[38;5;241m.\u001b[39mchannel)\n\u001b[1;32m    473\u001b[0m lim \u001b[38;5;241m=\u001b[39m kwargs\u001b[38;5;241m.\u001b[39mpop(\u001b[38;5;124m\"\u001b[39m\u001b[38;5;124mlim\u001b[39m\u001b[38;5;124m\"\u001b[39m, \u001b[38;5;28;01mNone\u001b[39;00m)\n\u001b[0;32m--> 475\u001b[0m \u001b[38;5;28;43msuper\u001b[39;49m\u001b[43m(\u001b[49m\u001b[43m)\u001b[49m\u001b[38;5;241;43m.\u001b[39;49m\u001b[43mplot\u001b[49m\u001b[43m(\u001b[49m\u001b[43mexperiment\u001b[49m\u001b[43m,\u001b[49m\n\u001b[1;32m    476\u001b[0m \u001b[43m             \u001b[49m\u001b[43mlim\u001b[49m\u001b[43m \u001b[49m\u001b[38;5;241;43m=\u001b[39;49m\u001b[43m \u001b[49m\u001b[43m{\u001b[49m\u001b[38;5;28;43mself\u001b[39;49m\u001b[38;5;241;43m.\u001b[39;49m\u001b[43mchannel\u001b[49m\u001b[43m \u001b[49m\u001b[43m:\u001b[49m\u001b[43m \u001b[49m\u001b[43mlim\u001b[49m\u001b[43m}\u001b[49m\u001b[43m,\u001b[49m\n\u001b[1;32m    477\u001b[0m \u001b[43m             \u001b[49m\u001b[43mscale\u001b[49m\u001b[43m \u001b[49m\u001b[38;5;241;43m=\u001b[39;49m\u001b[43m \u001b[49m\u001b[43m{\u001b[49m\u001b[38;5;28;43mself\u001b[39;49m\u001b[38;5;241;43m.\u001b[39;49m\u001b[43mchannel\u001b[49m\u001b[43m \u001b[49m\u001b[43m:\u001b[49m\u001b[43m \u001b[49m\u001b[43mscale\u001b[49m\u001b[43m}\u001b[49m\u001b[43m,\u001b[49m\n\u001b[1;32m    478\u001b[0m \u001b[43m             \u001b[49m\u001b[38;5;241;43m*\u001b[39;49m\u001b[38;5;241;43m*\u001b[39;49m\u001b[43mkwargs\u001b[49m\u001b[43m)\u001b[49m\n",
      "File \u001b[0;32m/mnt/disks/disk-1/test_packages/cytoflow/.venv/lib/python3.8/site-packages/cytoflow/views/base_views.py:400\u001b[0m, in \u001b[0;36mBaseDataView.plot\u001b[0;34m(self, experiment, **kwargs)\u001b[0m\n\u001b[1;32m    395\u001b[0m     \u001b[38;5;28;01melse\u001b[39;00m:\n\u001b[1;32m    396\u001b[0m         \u001b[38;5;28;01mraise\u001b[39;00m util\u001b[38;5;241m.\u001b[39mCytoflowError(\u001b[38;5;124m'\u001b[39m\u001b[38;5;124mlim\u001b[39m\u001b[38;5;124m'\u001b[39m,\n\u001b[1;32m    397\u001b[0m                                  \u001b[38;5;124m\"\u001b[39m\u001b[38;5;124mlim\u001b[39m\u001b[38;5;124m\\\u001b[39m\u001b[38;5;124m[\u001b[39m\u001b[38;5;132;01m{}\u001b[39;00m\u001b[38;5;124m\\\u001b[39m\u001b[38;5;124m] is an unknown data type\u001b[39m\u001b[38;5;124m\"\u001b[39m\n\u001b[1;32m    398\u001b[0m                                  \u001b[38;5;241m.\u001b[39mformat(c))\n\u001b[0;32m--> 400\u001b[0m     lim[c] \u001b[38;5;241m=\u001b[39m [scale[c]\u001b[38;5;241m.\u001b[39mclip(x) \u001b[38;5;28;01mfor\u001b[39;00m x \u001b[38;5;129;01min\u001b[39;00m lim[c]]\n\u001b[1;32m    403\u001b[0m facets \u001b[38;5;241m=\u001b[39m [x \u001b[38;5;28;01mfor\u001b[39;00m x \u001b[38;5;129;01min\u001b[39;00m [\u001b[38;5;28mself\u001b[39m\u001b[38;5;241m.\u001b[39mxfacet, \u001b[38;5;28mself\u001b[39m\u001b[38;5;241m.\u001b[39myfacet, \u001b[38;5;28mself\u001b[39m\u001b[38;5;241m.\u001b[39mhuefacet] \u001b[38;5;28;01mif\u001b[39;00m x]\n\u001b[1;32m    405\u001b[0m \u001b[38;5;28;01mif\u001b[39;00m \u001b[38;5;28mlen\u001b[39m(facets) \u001b[38;5;241m!=\u001b[39m \u001b[38;5;28mlen\u001b[39m(\u001b[38;5;28mset\u001b[39m(facets)):\n",
      "File \u001b[0;32m/mnt/disks/disk-1/test_packages/cytoflow/.venv/lib/python3.8/site-packages/cytoflow/views/base_views.py:400\u001b[0m, in \u001b[0;36m<listcomp>\u001b[0;34m(.0)\u001b[0m\n\u001b[1;32m    395\u001b[0m     \u001b[38;5;28;01melse\u001b[39;00m:\n\u001b[1;32m    396\u001b[0m         \u001b[38;5;28;01mraise\u001b[39;00m util\u001b[38;5;241m.\u001b[39mCytoflowError(\u001b[38;5;124m'\u001b[39m\u001b[38;5;124mlim\u001b[39m\u001b[38;5;124m'\u001b[39m,\n\u001b[1;32m    397\u001b[0m                                  \u001b[38;5;124m\"\u001b[39m\u001b[38;5;124mlim\u001b[39m\u001b[38;5;124m\\\u001b[39m\u001b[38;5;124m[\u001b[39m\u001b[38;5;132;01m{}\u001b[39;00m\u001b[38;5;124m\\\u001b[39m\u001b[38;5;124m] is an unknown data type\u001b[39m\u001b[38;5;124m\"\u001b[39m\n\u001b[1;32m    398\u001b[0m                                  \u001b[38;5;241m.\u001b[39mformat(c))\n\u001b[0;32m--> 400\u001b[0m     lim[c] \u001b[38;5;241m=\u001b[39m [\u001b[43mscale\u001b[49m\u001b[43m[\u001b[49m\u001b[43mc\u001b[49m\u001b[43m]\u001b[49m\u001b[38;5;241;43m.\u001b[39;49m\u001b[43mclip\u001b[49m\u001b[43m(\u001b[49m\u001b[43mx\u001b[49m\u001b[43m)\u001b[49m \u001b[38;5;28;01mfor\u001b[39;00m x \u001b[38;5;129;01min\u001b[39;00m lim[c]]\n\u001b[1;32m    403\u001b[0m facets \u001b[38;5;241m=\u001b[39m [x \u001b[38;5;28;01mfor\u001b[39;00m x \u001b[38;5;129;01min\u001b[39;00m [\u001b[38;5;28mself\u001b[39m\u001b[38;5;241m.\u001b[39mxfacet, \u001b[38;5;28mself\u001b[39m\u001b[38;5;241m.\u001b[39myfacet, \u001b[38;5;28mself\u001b[39m\u001b[38;5;241m.\u001b[39mhuefacet] \u001b[38;5;28;01mif\u001b[39;00m x]\n\u001b[1;32m    405\u001b[0m \u001b[38;5;28;01mif\u001b[39;00m \u001b[38;5;28mlen\u001b[39m(facets) \u001b[38;5;241m!=\u001b[39m \u001b[38;5;28mlen\u001b[39m(\u001b[38;5;28mset\u001b[39m(facets)):\n",
      "File \u001b[0;32m/mnt/disks/disk-1/test_packages/cytoflow/.venv/lib/python3.8/site-packages/cytoflow/utility/logicle_scale.py:202\u001b[0m, in \u001b[0;36mLogicleScale.clip\u001b[0;34m(self, data)\u001b[0m\n\u001b[1;32m    200\u001b[0m \u001b[38;5;28;01mdef\u001b[39;00m \u001b[38;5;21mclip\u001b[39m(\u001b[38;5;28mself\u001b[39m, data):\n\u001b[1;32m    201\u001b[0m     \u001b[38;5;28;01mtry\u001b[39;00m:\n\u001b[0;32m--> 202\u001b[0m         logicle_min \u001b[38;5;241m=\u001b[39m \u001b[38;5;28;43mself\u001b[39;49m\u001b[38;5;241;43m.\u001b[39;49m\u001b[43m_logicle\u001b[49m\u001b[38;5;241m.\u001b[39minverse(\u001b[38;5;241m0.0\u001b[39m)\n\u001b[1;32m    203\u001b[0m         logicle_max \u001b[38;5;241m=\u001b[39m \u001b[38;5;28mself\u001b[39m\u001b[38;5;241m.\u001b[39m_logicle\u001b[38;5;241m.\u001b[39minverse(\u001b[38;5;241m1.0\u001b[39m \u001b[38;5;241m-\u001b[39m sys\u001b[38;5;241m.\u001b[39mfloat_info\u001b[38;5;241m.\u001b[39mepsilon)\n\u001b[1;32m    204\u001b[0m         \u001b[38;5;28;01mif\u001b[39;00m \u001b[38;5;28misinstance\u001b[39m(data, pd\u001b[38;5;241m.\u001b[39mSeries):            \n",
      "File \u001b[0;32m/mnt/disks/disk-1/test_packages/cytoflow/.venv/lib/python3.8/site-packages/traits/has_traits.py:927\u001b[0m, in \u001b[0;36mcached_property.<locals>.decorator\u001b[0;34m(self)\u001b[0m\n\u001b[1;32m    925\u001b[0m result \u001b[38;5;241m=\u001b[39m \u001b[38;5;28mself\u001b[39m\u001b[38;5;241m.\u001b[39m\u001b[38;5;18m__dict__\u001b[39m\u001b[38;5;241m.\u001b[39mget(name, Undefined)\n\u001b[1;32m    926\u001b[0m \u001b[38;5;28;01mif\u001b[39;00m result \u001b[38;5;129;01mis\u001b[39;00m Undefined:\n\u001b[0;32m--> 927\u001b[0m     \u001b[38;5;28mself\u001b[39m\u001b[38;5;241m.\u001b[39m\u001b[38;5;18m__dict__\u001b[39m[name] \u001b[38;5;241m=\u001b[39m result \u001b[38;5;241m=\u001b[39m \u001b[43mfunction\u001b[49m\u001b[43m(\u001b[49m\u001b[38;5;28;43mself\u001b[39;49m\u001b[43m)\u001b[49m\n\u001b[1;32m    929\u001b[0m \u001b[38;5;28;01mreturn\u001b[39;00m result\n",
      "File \u001b[0;32m/mnt/disks/disk-1/test_packages/cytoflow/.venv/lib/python3.8/site-packages/cytoflow/utility/logicle_scale.py:337\u001b[0m, in \u001b[0;36mLogicleScale._get__logicle\u001b[0;34m(self)\u001b[0m\n\u001b[1;32m    334\u001b[0m \u001b[38;5;28;01mif\u001b[39;00m (\u001b[38;5;241m-\u001b[39m\u001b[38;5;28mself\u001b[39m\u001b[38;5;241m.\u001b[39mA \u001b[38;5;241m>\u001b[39m \u001b[38;5;28mself\u001b[39m\u001b[38;5;241m.\u001b[39mW \u001b[38;5;129;01mor\u001b[39;00m \u001b[38;5;28mself\u001b[39m\u001b[38;5;241m.\u001b[39mA \u001b[38;5;241m+\u001b[39m \u001b[38;5;28mself\u001b[39m\u001b[38;5;241m.\u001b[39mW \u001b[38;5;241m>\u001b[39m \u001b[38;5;28mself\u001b[39m\u001b[38;5;241m.\u001b[39mM \u001b[38;5;241m-\u001b[39m \u001b[38;5;28mself\u001b[39m\u001b[38;5;241m.\u001b[39mW):\n\u001b[1;32m    335\u001b[0m     \u001b[38;5;28;01mraise\u001b[39;00m CytoflowError(\u001b[38;5;124m\"\u001b[39m\u001b[38;5;124mLogicle param A is too large.\u001b[39m\u001b[38;5;124m\"\u001b[39m)\n\u001b[0;32m--> 337\u001b[0m \u001b[38;5;28;01mreturn\u001b[39;00m \u001b[43mFastLogicle\u001b[49m\u001b[43m(\u001b[49m\u001b[38;5;28;43mself\u001b[39;49m\u001b[38;5;241;43m.\u001b[39;49m\u001b[43m_T\u001b[49m\u001b[43m,\u001b[49m\u001b[43m \u001b[49m\u001b[38;5;28;43mself\u001b[39;49m\u001b[38;5;241;43m.\u001b[39;49m\u001b[43mW\u001b[49m\u001b[43m,\u001b[49m\u001b[43m \u001b[49m\u001b[38;5;28;43mself\u001b[39;49m\u001b[38;5;241;43m.\u001b[39;49m\u001b[43mM\u001b[49m\u001b[43m,\u001b[49m\u001b[43m \u001b[49m\u001b[38;5;28;43mself\u001b[39;49m\u001b[38;5;241;43m.\u001b[39;49m\u001b[43mA\u001b[49m\u001b[43m)\u001b[49m\n",
      "File \u001b[0;32m/mnt/disks/disk-1/test_packages/cytoflow/.venv/lib/python3.8/site-packages/cytoflow/utility/logicle_ext/Logicle.py:134\u001b[0m, in \u001b[0;36mFastLogicle.__init__\u001b[0;34m(self, *args)\u001b[0m\n\u001b[1;32m    133\u001b[0m \u001b[38;5;28;01mdef\u001b[39;00m \u001b[38;5;21m__init__\u001b[39m(\u001b[38;5;28mself\u001b[39m, \u001b[38;5;241m*\u001b[39margs):\n\u001b[0;32m--> 134\u001b[0m     \u001b[43m_Logicle\u001b[49m\u001b[38;5;241;43m.\u001b[39;49m\u001b[43mFastLogicle_swiginit\u001b[49m(\u001b[38;5;28mself\u001b[39m, _Logicle\u001b[38;5;241m.\u001b[39mnew_FastLogicle(\u001b[38;5;241m*\u001b[39margs))\n",
      "\u001b[0;31mAttributeError\u001b[0m: module 'cytoflow.utility.logicle_ext._Logicle' has no attribute 'FastLogicle_swiginit'"
     ]
    }
   ],
   "source": [
    "flow.HistogramView(channel = \"Y2-A\",\n",
    "                   scale = \"logicle\",\n",
    "                   huefacet = 'Dox').plot(ex)"
   ]
  },
  {
   "cell_type": "markdown",
   "metadata": {},
   "source": [
    "So, there's a clear difference between these tubes: one has a substantial population above about ~200 in the Y2-A, and the other doesn't.  What's the proportion of \"high\" cells?  Let's gate out the \"high\" population using a `ThresholdOp`."
   ]
  },
  {
   "cell_type": "code",
   "execution_count": 13,
   "metadata": {},
   "outputs": [],
   "source": [
    "thresh = flow.ThresholdOp(name = \"T\",\n",
    "                          channel = \"Y2-A\",\n",
    "                          threshold = 200)\n",
    "\n",
    "ex2 = thresh.apply(ex)"
   ]
  },
  {
   "cell_type": "markdown",
   "metadata": {},
   "source": [
    "Two important things to note here: first, an `Operation` (such as `ThresholdOp`) *does not operate in place*; instead, you create a `ThresholdOp` object, then call `apply()` to run it on an `Experiment`.  The `apply()` function returns a new `Experiment`.\n",
    "\n",
    "Second, a gate *does not remove events*; it simply *adds additional metadata* to the events already there.  You can see this if we look at the underlying `pandas.DataFrame` for `ex` and `ex2`:"
   ]
  },
  {
   "cell_type": "code",
   "execution_count": 14,
   "metadata": {},
   "outputs": [
    {
     "name": "stdout",
     "output_type": "stream",
     "text": [
      "         B1-A        B1-H          B1-W   Dox       FSC-A       FSC-H  \\\n",
      "0 -127.094002  257.718353 -63040.300781  10.0  459.962982  437.354553   \n",
      "1  -70.234840  255.798340 -34034.042969  10.0 -267.174652  365.354553   \n",
      "2  -96.471756  313.398346 -41931.687500  10.0 -201.582336  501.354553   \n",
      "3   18.831570  277.669250   8514.489258  10.0  291.259888  447.029755   \n",
      "4  100.882095  255.756256  51291.074219  10.0 -397.168579  354.565308   \n",
      "\n",
      "           FSC-W      HDR-T        SSC-A        SSC-H          SSC-W  \\\n",
      "0  137847.578125   2.018511   840.091370   747.917847  147225.328125   \n",
      "1  -95849.679688  27.451754  3476.902344  3163.917969  144038.046875   \n",
      "2  -52700.828125  32.043865   480.270691   507.917877  123937.437500   \n",
      "3   85399.273438  79.327492  8026.275879  6741.838867  156043.484375   \n",
      "4 -146821.125000  79.731194  7453.750488   609.884277  262143.968750   \n",
      "\n",
      "         V2-A        V2-H           V2-W         Y2-A         Y2-H  \\\n",
      "0   41.593452  240.153854   22701.017578   109.946274   153.630051   \n",
      "1  103.437637  336.153870   40332.058594  5554.108398  4273.629883   \n",
      "2 -271.375580  256.153870 -138860.828125    81.835281   121.630051   \n",
      "3  -26.212378  207.677841  -16543.453125   -54.120304    98.122017   \n",
      "4   44.559933  216.036865   27035.013672   -10.542595   127.326027   \n",
      "\n",
      "            Y2-W  \n",
      "0   93802.468750  \n",
      "1  170344.203125  \n",
      "2   88188.023438  \n",
      "3  -72294.242188  \n",
      "4  -10852.761719  \n",
      "----\n",
      "         B1-A        B1-H          B1-W   Dox       FSC-A       FSC-H  \\\n",
      "0 -127.094002  257.718353 -63040.300781  10.0  459.962982  437.354553   \n",
      "1  -70.234840  255.798340 -34034.042969  10.0 -267.174652  365.354553   \n",
      "2  -96.471756  313.398346 -41931.687500  10.0 -201.582336  501.354553   \n",
      "3   18.831570  277.669250   8514.489258  10.0  291.259888  447.029755   \n",
      "4  100.882095  255.756256  51291.074219  10.0 -397.168579  354.565308   \n",
      "\n",
      "           FSC-W      HDR-T        SSC-A        SSC-H          SSC-W  \\\n",
      "0  137847.578125   2.018511   840.091370   747.917847  147225.328125   \n",
      "1  -95849.679688  27.451754  3476.902344  3163.917969  144038.046875   \n",
      "2  -52700.828125  32.043865   480.270691   507.917877  123937.437500   \n",
      "3   85399.273438  79.327492  8026.275879  6741.838867  156043.484375   \n",
      "4 -146821.125000  79.731194  7453.750488   609.884277  262143.968750   \n",
      "\n",
      "         V2-A        V2-H           V2-W         Y2-A         Y2-H  \\\n",
      "0   41.593452  240.153854   22701.017578   109.946274   153.630051   \n",
      "1  103.437637  336.153870   40332.058594  5554.108398  4273.629883   \n",
      "2 -271.375580  256.153870 -138860.828125    81.835281   121.630051   \n",
      "3  -26.212378  207.677841  -16543.453125   -54.120304    98.122017   \n",
      "4   44.559933  216.036865   27035.013672   -10.542595   127.326027   \n",
      "\n",
      "            Y2-W      T  \n",
      "0   93802.468750  False  \n",
      "1  170344.203125   True  \n",
      "2   88188.023438  False  \n",
      "3  -72294.242188  False  \n",
      "4  -10852.761719  False  \n"
     ]
    }
   ],
   "source": [
    "print(ex.data.head())\n",
    "print(\"----\")\n",
    "print(ex2.data.head())"
   ]
  },
  {
   "cell_type": "markdown",
   "metadata": {},
   "source": [
    "In ex2, the `ThresholdOp` added a new column, named `T`, which has the same name as the `ThresholdOp`'s `name` attribute.  It is `True` if the `Y2-A` value is greater than 200, and `False` otherwise.  The `T` column is now a piece metadata *just like the Dox concentration* that we can use to facet the plots.  For example, the following plots different `Dox` concentrations in separate plots stacked on top of eachother (`yfacet = \"Dox\"`), and on each of these plots uses separate colors for the \"low\" and \"high\" populations (`huefacet = 'T'`):"
   ]
  },
  {
   "cell_type": "code",
   "execution_count": 15,
   "metadata": {},
   "outputs": [
    {
     "ename": "AttributeError",
     "evalue": "module 'cytoflow.utility.logicle_ext._Logicle' has no attribute 'FastLogicle_swiginit'",
     "output_type": "error",
     "traceback": [
      "\u001b[0;31m---------------------------------------------------------------------------\u001b[0m",
      "\u001b[0;31mAttributeError\u001b[0m                            Traceback (most recent call last)",
      "Input \u001b[0;32mIn [15]\u001b[0m, in \u001b[0;36m<cell line: 1>\u001b[0;34m()\u001b[0m\n\u001b[0;32m----> 1\u001b[0m \u001b[43mflow\u001b[49m\u001b[38;5;241;43m.\u001b[39;49m\u001b[43mHistogramView\u001b[49m\u001b[43m(\u001b[49m\u001b[43mchannel\u001b[49m\u001b[43m \u001b[49m\u001b[38;5;241;43m=\u001b[39;49m\u001b[43m \u001b[49m\u001b[38;5;124;43m\"\u001b[39;49m\u001b[38;5;124;43mY2-A\u001b[39;49m\u001b[38;5;124;43m\"\u001b[39;49m\u001b[43m,\u001b[49m\n\u001b[1;32m      2\u001b[0m \u001b[43m                   \u001b[49m\u001b[43mscale\u001b[49m\u001b[43m \u001b[49m\u001b[38;5;241;43m=\u001b[39;49m\u001b[43m \u001b[49m\u001b[38;5;124;43m\"\u001b[39;49m\u001b[38;5;124;43mlogicle\u001b[39;49m\u001b[38;5;124;43m\"\u001b[39;49m\u001b[43m,\u001b[49m\n\u001b[1;32m      3\u001b[0m \u001b[43m                   \u001b[49m\u001b[43myfacet\u001b[49m\u001b[43m \u001b[49m\u001b[38;5;241;43m=\u001b[39;49m\u001b[43m \u001b[49m\u001b[38;5;124;43m\"\u001b[39;49m\u001b[38;5;124;43mDox\u001b[39;49m\u001b[38;5;124;43m\"\u001b[39;49m\u001b[43m,\u001b[49m\n\u001b[1;32m      4\u001b[0m \u001b[43m                   \u001b[49m\u001b[43mhuefacet\u001b[49m\u001b[43m \u001b[49m\u001b[38;5;241;43m=\u001b[39;49m\u001b[43m \u001b[49m\u001b[38;5;124;43m'\u001b[39;49m\u001b[38;5;124;43mT\u001b[39;49m\u001b[38;5;124;43m'\u001b[39;49m\u001b[43m)\u001b[49m\u001b[38;5;241;43m.\u001b[39;49m\u001b[43mplot\u001b[49m\u001b[43m(\u001b[49m\u001b[43mex2\u001b[49m\u001b[43m)\u001b[49m\n",
      "File \u001b[0;32m/mnt/disks/disk-1/test_packages/cytoflow/.venv/lib/python3.8/site-packages/cytoflow/views/histogram.py:120\u001b[0m, in \u001b[0;36mHistogramView.plot\u001b[0;34m(self, experiment, **kwargs)\u001b[0m\n\u001b[1;32m    118\u001b[0m     kwargs\u001b[38;5;241m.\u001b[39msetdefault(\u001b[38;5;124m'\u001b[39m\u001b[38;5;124mxlabel\u001b[39m\u001b[38;5;124m'\u001b[39m, ylabel)\n\u001b[1;32m    119\u001b[0m     kwargs\u001b[38;5;241m.\u001b[39msetdefault(\u001b[38;5;124m'\u001b[39m\u001b[38;5;124mylabel\u001b[39m\u001b[38;5;124m'\u001b[39m, \u001b[38;5;28mself\u001b[39m\u001b[38;5;241m.\u001b[39mchannel)\n\u001b[0;32m--> 120\u001b[0m \u001b[38;5;28;43msuper\u001b[39;49m\u001b[43m(\u001b[49m\u001b[43m)\u001b[49m\u001b[38;5;241;43m.\u001b[39;49m\u001b[43mplot\u001b[49m\u001b[43m(\u001b[49m\u001b[43mexperiment\u001b[49m\u001b[43m,\u001b[49m\u001b[43m \u001b[49m\u001b[38;5;241;43m*\u001b[39;49m\u001b[38;5;241;43m*\u001b[39;49m\u001b[43mkwargs\u001b[49m\u001b[43m)\u001b[49m\n",
      "File \u001b[0;32m/mnt/disks/disk-1/test_packages/cytoflow/.venv/lib/python3.8/site-packages/cytoflow/views/base_views.py:475\u001b[0m, in \u001b[0;36mBase1DView.plot\u001b[0;34m(self, experiment, **kwargs)\u001b[0m\n\u001b[1;32m    471\u001b[0m     scale \u001b[38;5;241m=\u001b[39m util\u001b[38;5;241m.\u001b[39mscale_factory(\u001b[38;5;28mself\u001b[39m\u001b[38;5;241m.\u001b[39mscale, experiment, channel \u001b[38;5;241m=\u001b[39m \u001b[38;5;28mself\u001b[39m\u001b[38;5;241m.\u001b[39mchannel)\n\u001b[1;32m    473\u001b[0m lim \u001b[38;5;241m=\u001b[39m kwargs\u001b[38;5;241m.\u001b[39mpop(\u001b[38;5;124m\"\u001b[39m\u001b[38;5;124mlim\u001b[39m\u001b[38;5;124m\"\u001b[39m, \u001b[38;5;28;01mNone\u001b[39;00m)\n\u001b[0;32m--> 475\u001b[0m \u001b[38;5;28;43msuper\u001b[39;49m\u001b[43m(\u001b[49m\u001b[43m)\u001b[49m\u001b[38;5;241;43m.\u001b[39;49m\u001b[43mplot\u001b[49m\u001b[43m(\u001b[49m\u001b[43mexperiment\u001b[49m\u001b[43m,\u001b[49m\n\u001b[1;32m    476\u001b[0m \u001b[43m             \u001b[49m\u001b[43mlim\u001b[49m\u001b[43m \u001b[49m\u001b[38;5;241;43m=\u001b[39;49m\u001b[43m \u001b[49m\u001b[43m{\u001b[49m\u001b[38;5;28;43mself\u001b[39;49m\u001b[38;5;241;43m.\u001b[39;49m\u001b[43mchannel\u001b[49m\u001b[43m \u001b[49m\u001b[43m:\u001b[49m\u001b[43m \u001b[49m\u001b[43mlim\u001b[49m\u001b[43m}\u001b[49m\u001b[43m,\u001b[49m\n\u001b[1;32m    477\u001b[0m \u001b[43m             \u001b[49m\u001b[43mscale\u001b[49m\u001b[43m \u001b[49m\u001b[38;5;241;43m=\u001b[39;49m\u001b[43m \u001b[49m\u001b[43m{\u001b[49m\u001b[38;5;28;43mself\u001b[39;49m\u001b[38;5;241;43m.\u001b[39;49m\u001b[43mchannel\u001b[49m\u001b[43m \u001b[49m\u001b[43m:\u001b[49m\u001b[43m \u001b[49m\u001b[43mscale\u001b[49m\u001b[43m}\u001b[49m\u001b[43m,\u001b[49m\n\u001b[1;32m    478\u001b[0m \u001b[43m             \u001b[49m\u001b[38;5;241;43m*\u001b[39;49m\u001b[38;5;241;43m*\u001b[39;49m\u001b[43mkwargs\u001b[49m\u001b[43m)\u001b[49m\n",
      "File \u001b[0;32m/mnt/disks/disk-1/test_packages/cytoflow/.venv/lib/python3.8/site-packages/cytoflow/views/base_views.py:400\u001b[0m, in \u001b[0;36mBaseDataView.plot\u001b[0;34m(self, experiment, **kwargs)\u001b[0m\n\u001b[1;32m    395\u001b[0m     \u001b[38;5;28;01melse\u001b[39;00m:\n\u001b[1;32m    396\u001b[0m         \u001b[38;5;28;01mraise\u001b[39;00m util\u001b[38;5;241m.\u001b[39mCytoflowError(\u001b[38;5;124m'\u001b[39m\u001b[38;5;124mlim\u001b[39m\u001b[38;5;124m'\u001b[39m,\n\u001b[1;32m    397\u001b[0m                                  \u001b[38;5;124m\"\u001b[39m\u001b[38;5;124mlim\u001b[39m\u001b[38;5;124m\\\u001b[39m\u001b[38;5;124m[\u001b[39m\u001b[38;5;132;01m{}\u001b[39;00m\u001b[38;5;124m\\\u001b[39m\u001b[38;5;124m] is an unknown data type\u001b[39m\u001b[38;5;124m\"\u001b[39m\n\u001b[1;32m    398\u001b[0m                                  \u001b[38;5;241m.\u001b[39mformat(c))\n\u001b[0;32m--> 400\u001b[0m     lim[c] \u001b[38;5;241m=\u001b[39m [scale[c]\u001b[38;5;241m.\u001b[39mclip(x) \u001b[38;5;28;01mfor\u001b[39;00m x \u001b[38;5;129;01min\u001b[39;00m lim[c]]\n\u001b[1;32m    403\u001b[0m facets \u001b[38;5;241m=\u001b[39m [x \u001b[38;5;28;01mfor\u001b[39;00m x \u001b[38;5;129;01min\u001b[39;00m [\u001b[38;5;28mself\u001b[39m\u001b[38;5;241m.\u001b[39mxfacet, \u001b[38;5;28mself\u001b[39m\u001b[38;5;241m.\u001b[39myfacet, \u001b[38;5;28mself\u001b[39m\u001b[38;5;241m.\u001b[39mhuefacet] \u001b[38;5;28;01mif\u001b[39;00m x]\n\u001b[1;32m    405\u001b[0m \u001b[38;5;28;01mif\u001b[39;00m \u001b[38;5;28mlen\u001b[39m(facets) \u001b[38;5;241m!=\u001b[39m \u001b[38;5;28mlen\u001b[39m(\u001b[38;5;28mset\u001b[39m(facets)):\n",
      "File \u001b[0;32m/mnt/disks/disk-1/test_packages/cytoflow/.venv/lib/python3.8/site-packages/cytoflow/views/base_views.py:400\u001b[0m, in \u001b[0;36m<listcomp>\u001b[0;34m(.0)\u001b[0m\n\u001b[1;32m    395\u001b[0m     \u001b[38;5;28;01melse\u001b[39;00m:\n\u001b[1;32m    396\u001b[0m         \u001b[38;5;28;01mraise\u001b[39;00m util\u001b[38;5;241m.\u001b[39mCytoflowError(\u001b[38;5;124m'\u001b[39m\u001b[38;5;124mlim\u001b[39m\u001b[38;5;124m'\u001b[39m,\n\u001b[1;32m    397\u001b[0m                                  \u001b[38;5;124m\"\u001b[39m\u001b[38;5;124mlim\u001b[39m\u001b[38;5;124m\\\u001b[39m\u001b[38;5;124m[\u001b[39m\u001b[38;5;132;01m{}\u001b[39;00m\u001b[38;5;124m\\\u001b[39m\u001b[38;5;124m] is an unknown data type\u001b[39m\u001b[38;5;124m\"\u001b[39m\n\u001b[1;32m    398\u001b[0m                                  \u001b[38;5;241m.\u001b[39mformat(c))\n\u001b[0;32m--> 400\u001b[0m     lim[c] \u001b[38;5;241m=\u001b[39m [\u001b[43mscale\u001b[49m\u001b[43m[\u001b[49m\u001b[43mc\u001b[49m\u001b[43m]\u001b[49m\u001b[38;5;241;43m.\u001b[39;49m\u001b[43mclip\u001b[49m\u001b[43m(\u001b[49m\u001b[43mx\u001b[49m\u001b[43m)\u001b[49m \u001b[38;5;28;01mfor\u001b[39;00m x \u001b[38;5;129;01min\u001b[39;00m lim[c]]\n\u001b[1;32m    403\u001b[0m facets \u001b[38;5;241m=\u001b[39m [x \u001b[38;5;28;01mfor\u001b[39;00m x \u001b[38;5;129;01min\u001b[39;00m [\u001b[38;5;28mself\u001b[39m\u001b[38;5;241m.\u001b[39mxfacet, \u001b[38;5;28mself\u001b[39m\u001b[38;5;241m.\u001b[39myfacet, \u001b[38;5;28mself\u001b[39m\u001b[38;5;241m.\u001b[39mhuefacet] \u001b[38;5;28;01mif\u001b[39;00m x]\n\u001b[1;32m    405\u001b[0m \u001b[38;5;28;01mif\u001b[39;00m \u001b[38;5;28mlen\u001b[39m(facets) \u001b[38;5;241m!=\u001b[39m \u001b[38;5;28mlen\u001b[39m(\u001b[38;5;28mset\u001b[39m(facets)):\n",
      "File \u001b[0;32m/mnt/disks/disk-1/test_packages/cytoflow/.venv/lib/python3.8/site-packages/cytoflow/utility/logicle_scale.py:202\u001b[0m, in \u001b[0;36mLogicleScale.clip\u001b[0;34m(self, data)\u001b[0m\n\u001b[1;32m    200\u001b[0m \u001b[38;5;28;01mdef\u001b[39;00m \u001b[38;5;21mclip\u001b[39m(\u001b[38;5;28mself\u001b[39m, data):\n\u001b[1;32m    201\u001b[0m     \u001b[38;5;28;01mtry\u001b[39;00m:\n\u001b[0;32m--> 202\u001b[0m         logicle_min \u001b[38;5;241m=\u001b[39m \u001b[38;5;28;43mself\u001b[39;49m\u001b[38;5;241;43m.\u001b[39;49m\u001b[43m_logicle\u001b[49m\u001b[38;5;241m.\u001b[39minverse(\u001b[38;5;241m0.0\u001b[39m)\n\u001b[1;32m    203\u001b[0m         logicle_max \u001b[38;5;241m=\u001b[39m \u001b[38;5;28mself\u001b[39m\u001b[38;5;241m.\u001b[39m_logicle\u001b[38;5;241m.\u001b[39minverse(\u001b[38;5;241m1.0\u001b[39m \u001b[38;5;241m-\u001b[39m sys\u001b[38;5;241m.\u001b[39mfloat_info\u001b[38;5;241m.\u001b[39mepsilon)\n\u001b[1;32m    204\u001b[0m         \u001b[38;5;28;01mif\u001b[39;00m \u001b[38;5;28misinstance\u001b[39m(data, pd\u001b[38;5;241m.\u001b[39mSeries):            \n",
      "File \u001b[0;32m/mnt/disks/disk-1/test_packages/cytoflow/.venv/lib/python3.8/site-packages/traits/has_traits.py:927\u001b[0m, in \u001b[0;36mcached_property.<locals>.decorator\u001b[0;34m(self)\u001b[0m\n\u001b[1;32m    925\u001b[0m result \u001b[38;5;241m=\u001b[39m \u001b[38;5;28mself\u001b[39m\u001b[38;5;241m.\u001b[39m\u001b[38;5;18m__dict__\u001b[39m\u001b[38;5;241m.\u001b[39mget(name, Undefined)\n\u001b[1;32m    926\u001b[0m \u001b[38;5;28;01mif\u001b[39;00m result \u001b[38;5;129;01mis\u001b[39;00m Undefined:\n\u001b[0;32m--> 927\u001b[0m     \u001b[38;5;28mself\u001b[39m\u001b[38;5;241m.\u001b[39m\u001b[38;5;18m__dict__\u001b[39m[name] \u001b[38;5;241m=\u001b[39m result \u001b[38;5;241m=\u001b[39m \u001b[43mfunction\u001b[49m\u001b[43m(\u001b[49m\u001b[38;5;28;43mself\u001b[39;49m\u001b[43m)\u001b[49m\n\u001b[1;32m    929\u001b[0m \u001b[38;5;28;01mreturn\u001b[39;00m result\n",
      "File \u001b[0;32m/mnt/disks/disk-1/test_packages/cytoflow/.venv/lib/python3.8/site-packages/cytoflow/utility/logicle_scale.py:337\u001b[0m, in \u001b[0;36mLogicleScale._get__logicle\u001b[0;34m(self)\u001b[0m\n\u001b[1;32m    334\u001b[0m \u001b[38;5;28;01mif\u001b[39;00m (\u001b[38;5;241m-\u001b[39m\u001b[38;5;28mself\u001b[39m\u001b[38;5;241m.\u001b[39mA \u001b[38;5;241m>\u001b[39m \u001b[38;5;28mself\u001b[39m\u001b[38;5;241m.\u001b[39mW \u001b[38;5;129;01mor\u001b[39;00m \u001b[38;5;28mself\u001b[39m\u001b[38;5;241m.\u001b[39mA \u001b[38;5;241m+\u001b[39m \u001b[38;5;28mself\u001b[39m\u001b[38;5;241m.\u001b[39mW \u001b[38;5;241m>\u001b[39m \u001b[38;5;28mself\u001b[39m\u001b[38;5;241m.\u001b[39mM \u001b[38;5;241m-\u001b[39m \u001b[38;5;28mself\u001b[39m\u001b[38;5;241m.\u001b[39mW):\n\u001b[1;32m    335\u001b[0m     \u001b[38;5;28;01mraise\u001b[39;00m CytoflowError(\u001b[38;5;124m\"\u001b[39m\u001b[38;5;124mLogicle param A is too large.\u001b[39m\u001b[38;5;124m\"\u001b[39m)\n\u001b[0;32m--> 337\u001b[0m \u001b[38;5;28;01mreturn\u001b[39;00m \u001b[43mFastLogicle\u001b[49m\u001b[43m(\u001b[49m\u001b[38;5;28;43mself\u001b[39;49m\u001b[38;5;241;43m.\u001b[39;49m\u001b[43m_T\u001b[49m\u001b[43m,\u001b[49m\u001b[43m \u001b[49m\u001b[38;5;28;43mself\u001b[39;49m\u001b[38;5;241;43m.\u001b[39;49m\u001b[43mW\u001b[49m\u001b[43m,\u001b[49m\u001b[43m \u001b[49m\u001b[38;5;28;43mself\u001b[39;49m\u001b[38;5;241;43m.\u001b[39;49m\u001b[43mM\u001b[49m\u001b[43m,\u001b[49m\u001b[43m \u001b[49m\u001b[38;5;28;43mself\u001b[39;49m\u001b[38;5;241;43m.\u001b[39;49m\u001b[43mA\u001b[49m\u001b[43m)\u001b[49m\n",
      "File \u001b[0;32m/mnt/disks/disk-1/test_packages/cytoflow/.venv/lib/python3.8/site-packages/cytoflow/utility/logicle_ext/Logicle.py:134\u001b[0m, in \u001b[0;36mFastLogicle.__init__\u001b[0;34m(self, *args)\u001b[0m\n\u001b[1;32m    133\u001b[0m \u001b[38;5;28;01mdef\u001b[39;00m \u001b[38;5;21m__init__\u001b[39m(\u001b[38;5;28mself\u001b[39m, \u001b[38;5;241m*\u001b[39margs):\n\u001b[0;32m--> 134\u001b[0m     \u001b[43m_Logicle\u001b[49m\u001b[38;5;241;43m.\u001b[39;49m\u001b[43mFastLogicle_swiginit\u001b[49m(\u001b[38;5;28mself\u001b[39m, _Logicle\u001b[38;5;241m.\u001b[39mnew_FastLogicle(\u001b[38;5;241m*\u001b[39margs))\n",
      "\u001b[0;31mAttributeError\u001b[0m: module 'cytoflow.utility.logicle_ext._Logicle' has no attribute 'FastLogicle_swiginit'"
     ]
    }
   ],
   "source": [
    "flow.HistogramView(channel = \"Y2-A\",\n",
    "                   scale = \"logicle\",\n",
    "                   yfacet = \"Dox\",\n",
    "                   huefacet = 'T').plot(ex2)"
   ]
  },
  {
   "cell_type": "markdown",
   "metadata": {},
   "source": [
    "It's also important to note that we can still access the underlying `pandas.Dataframe`: either by looking at the `Experiment.data` attribute, or by referencing a column directly:"
   ]
  },
  {
   "cell_type": "code",
   "execution_count": 16,
   "metadata": {},
   "outputs": [
    {
     "data": {
      "text/plain": [
       "0    False\n",
       "1     True\n",
       "2    False\n",
       "3    False\n",
       "4    False\n",
       "5    False\n",
       "6     True\n",
       "7    False\n",
       "8     True\n",
       "9    False\n",
       "Name: T, dtype: bool"
      ]
     },
     "execution_count": 16,
     "metadata": {},
     "output_type": "execute_result"
    }
   ],
   "source": [
    "ex2[\"T\"].head(10)"
   ]
  },
  {
   "cell_type": "markdown",
   "metadata": {},
   "source": [
    "Because the data is all stored in a single `pandas.Dataframe`, we can use the `pandas` API, and indeed the rest of the SciPy stack, to ask sophisticated questions of the underlying data.  For example, \"how many events of each Dox concentration were above the threshold?\""
   ]
  },
  {
   "cell_type": "code",
   "execution_count": 17,
   "metadata": {},
   "outputs": [
    {
     "data": {
      "text/plain": [
       "Dox   T    \n",
       "1.0   False    9946\n",
       "      True       54\n",
       "10.0  False    5561\n",
       "      True     4439\n",
       "dtype: int64"
      ]
     },
     "execution_count": 17,
     "metadata": {},
     "output_type": "execute_result"
    }
   ],
   "source": [
    "ex2.data.groupby(['Dox', 'T']).size()"
   ]
  },
  {
   "cell_type": "markdown",
   "metadata": {},
   "source": [
    "`cytoflow` can answer the same question for us using one of its statistics views.  In `cytoflow`, a *statistic* is a number that summarizes a population; one of the key features\n",
    "of `cytoflow` is that it makes it easy to see how these summary statistics change as your experimental conditions change.\n",
    "\n",
    "Several operations add statistics to an experiment; one of the most straightforward ones is `ChannelStatisticOp`.  It groups the experiment's data by the conditions specified in `by`, then applies `function` to `channel` for each group.\n",
    "\n",
    "In this case, we'll divide up the data into the subgroups `T == True & Dox == 1`; `T == True & Dox == 10`; `T == False & Dox == 1`; and `T == False & Dox == 10`.  Then, we'll apply the function `len` to the `Y2-A` channel."
   ]
  },
  {
   "cell_type": "code",
   "execution_count": 18,
   "metadata": {},
   "outputs": [],
   "source": [
    "ex3 = flow.ChannelStatisticOp(name = \"ByDox\",\n",
    "                             channel = \"Y2-A\",\n",
    "                             by = ['T', 'Dox'],\n",
    "                             function = len).apply(ex2)"
   ]
  },
  {
   "cell_type": "markdown",
   "metadata": {},
   "source": [
    "Now we can look at the new statistic: `Experiment.statistics` is a dictionary whose keys are tuples and whose values are the computed statistics (stored as `MultiIndex`ed `pandas.Series`).  The first element in the tuple is the name of the operation that added it, and the second is defined by that operation.  In this case, it's `len`, the name of the function."
   ]
  },
  {
   "cell_type": "code",
   "execution_count": 19,
   "metadata": {},
   "outputs": [
    {
     "data": {
      "text/plain": [
       "T      Dox \n",
       "False  1.0     9946\n",
       "       10.0    5561\n",
       "True   1.0       54\n",
       "       10.0    4439\n",
       "Name: ByDox : len, dtype: int64"
      ]
     },
     "execution_count": 19,
     "metadata": {},
     "output_type": "execute_result"
    }
   ],
   "source": [
    "ex3.statistics[(\"ByDox\", \"len\")]"
   ]
  },
  {
   "cell_type": "markdown",
   "metadata": {},
   "source": [
    "We can also plot statistics using one of the various statistics views, such as `BarChartView`."
   ]
  },
  {
   "cell_type": "code",
   "execution_count": 22,
   "metadata": {
    "scrolled": true
   },
   "outputs": [
    {
     "data": {
      "text/plain": [
       "['AutofluorescenceOp',\n",
       " 'BarChartView',\n",
       " 'BeadCalibrationOp',\n",
       " 'BinningOp',\n",
       " 'BleedthroughLinearOp',\n",
       " 'BleedthroughPiecewiseOp',\n",
       " 'ChannelStatisticOp',\n",
       " 'ColorTranslationOp',\n",
       " 'DensityGateOp',\n",
       " 'DensityView',\n",
       " 'Experiment',\n",
       " 'ExportFCS',\n",
       " 'FlowPeaksOp',\n",
       " 'FrameStatisticOp',\n",
       " 'GaussianMixtureOp',\n",
       " 'Histogram2DView',\n",
       " 'HistogramView',\n",
       " 'ImportOp',\n",
       " 'KMeansOp',\n",
       " 'Kde1DView',\n",
       " 'Kde2DView',\n",
       " 'MplFilter',\n",
       " 'PCAOp',\n",
       " 'ParallelCoordinatesView',\n",
       " 'PolygonOp',\n",
       " 'QuadOp',\n",
       " 'RUNNING_IN_GUI',\n",
       " 'RadvizView',\n",
       " 'Range2DOp',\n",
       " 'RangeOp',\n",
       " 'RatioOp',\n",
       " 'ScatterplotView',\n",
       " 'Stats1DView',\n",
       " 'Stats2DView',\n",
       " 'TableView',\n",
       " 'ThresholdOp',\n",
       " 'TransformStatisticOp',\n",
       " 'Tube',\n",
       " 'ViolinPlotView',\n",
       " '__builtins__',\n",
       " '__cached__',\n",
       " '__doc__',\n",
       " '__file__',\n",
       " '__loader__',\n",
       " '__name__',\n",
       " '__package__',\n",
       " '__path__',\n",
       " '__spec__',\n",
       " '__version__',\n",
       " '_version',\n",
       " 'ci',\n",
       " 'experiment',\n",
       " 'geom_mean',\n",
       " 'geom_sd',\n",
       " 'geom_sd_range',\n",
       " 'geom_sem',\n",
       " 'geom_sem_range',\n",
       " 'get_default_scale',\n",
       " 'logging',\n",
       " 'matplotlib',\n",
       " 'operations',\n",
       " 'percentiles',\n",
       " 'set_default_scale',\n",
       " 'sys',\n",
       " 'utility',\n",
       " 'views',\n",
       " 'warnings']"
      ]
     },
     "execution_count": 22,
     "metadata": {},
     "output_type": "execute_result"
    }
   ],
   "source": [
    "dir(flow)"
   ]
  },
  {
   "cell_type": "code",
   "execution_count": 20,
   "metadata": {},
   "outputs": [
    {
     "data": {
      "image/png": "[encoded data removed]",
      "text/plain": [
       "<Figure size 720x480 with 1 Axes>"
      ]
     },
     "metadata": {
      "needs_background": "light"
     },
     "output_type": "display_data"
    }
   ],
   "source": [
    "flow.BarChartView(statistic = (\"ByDox\", \"len\"),\n",
    "                  variable = \"Dox\",\n",
    "                  huefacet = 'T').plot(ex3)"
   ]
  },
  {
   "cell_type": "markdown",
   "metadata": {},
   "source": [
    "Statistics are important enough that they get an entire notebook of examples; please see `Statistics.ipynb` for a more in-depth exploration.\n",
    "\n",
    "I hope this makes the semantics of the `cytoflow` package clear.  This was a pretty simplistic toy analysis; for more sophisticated examples, see the other accompanying Jupyter notebooks."
   ]
  }
 ],
 "metadata": {
  "kernelspec": {
   "display_name": "Python 3 (ipykernel)",
   "language": "python",
   "name": "python3"
  },
  "language_info": {
   "codemirror_mode": {
    "name": "ipython",
    "version": 3
   },
   "file_extension": ".py",
   "mimetype": "text/x-python",
   "name": "python",
   "nbconvert_exporter": "python",
   "pygments_lexer": "ipython3",
   "version": "3.8.13"
  }
 },
 "nbformat": 4,
 "nbformat_minor": 1
}
